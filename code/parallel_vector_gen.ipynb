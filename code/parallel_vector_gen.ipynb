{
 "cells": [
  {
   "cell_type": "markdown",
   "metadata": {},
   "source": [
    "# Data Prep "
   ]
  },
  {
   "cell_type": "code",
   "execution_count": 1,
   "metadata": {},
   "outputs": [],
   "source": [
    "import numpy as np\n",
    "import pandas as pd\n",
    "import re\n",
    "import time\n",
    "import ipyparallel as ipp\n",
    "import seaborn as sns\n",
    "import matplotlib.pyplot as plt\n",
    "import functools"
   ]
  },
  {
   "cell_type": "code",
   "execution_count": 2,
   "metadata": {},
   "outputs": [],
   "source": [
    "from sklearn.preprocessing import LabelEncoder"
   ]
  },
  {
   "cell_type": "markdown",
   "metadata": {},
   "source": [
    "### Helper Methods"
   ]
  },
  {
   "cell_type": "code",
   "execution_count": 3,
   "metadata": {},
   "outputs": [],
   "source": [
    "# Time how long an import takes\n",
    "def timed_df(path):\n",
    "    start = time.time()\n",
    "    dataframe = pd.read_csv(path)\n",
    "    print(f'Finished reading dataframe in {time.time()-start:.2f} seconds')\n",
    "    return dataframe"
   ]
  },
  {
   "cell_type": "markdown",
   "metadata": {},
   "source": [
    "### Data Minimization\n",
    "Remove redundant columns to make search more efficient"
   ]
  },
  {
   "cell_type": "code",
   "execution_count": 111,
   "metadata": {},
   "outputs": [
    {
     "name": "stdout",
     "output_type": "stream",
     "text": [
      "Finished reading dataframe in 60.31 seconds\n"
     ]
    }
   ],
   "source": [
    "# Import our error-free but inefficient dataframe\n",
    "df = timed_df('data/fixed_data.csv')"
   ]
  },
  {
   "cell_type": "code",
   "execution_count": 122,
   "metadata": {},
   "outputs": [],
   "source": [
    "# Purge redundant columns\n",
    "df = df[['product', 'basket_id']]"
   ]
  },
  {
   "cell_type": "code",
   "execution_count": 123,
   "metadata": {},
   "outputs": [],
   "source": [
    "# Replace basket identifier with a numeric value\n",
    "le = LabelEncoder()\n",
    "df['basket_id'] = le.fit_transform(df['basket_id'])"
   ]
  },
  {
   "cell_type": "code",
   "execution_count": 170,
   "metadata": {
    "scrolled": true
   },
   "outputs": [
    {
     "data": {
      "text/html": [
       "<div>\n",
       "<style scoped>\n",
       "    .dataframe tbody tr th:only-of-type {\n",
       "        vertical-align: middle;\n",
       "    }\n",
       "\n",
       "    .dataframe tbody tr th {\n",
       "        vertical-align: top;\n",
       "    }\n",
       "\n",
       "    .dataframe thead th {\n",
       "        text-align: right;\n",
       "    }\n",
       "</style>\n",
       "<table border=\"1\" class=\"dataframe\">\n",
       "  <thead>\n",
       "    <tr style=\"text-align: right;\">\n",
       "      <th></th>\n",
       "      <th>product</th>\n",
       "      <th>basket_id</th>\n",
       "    </tr>\n",
       "  </thead>\n",
       "  <tbody>\n",
       "    <tr>\n",
       "      <th>0</th>\n",
       "      <td>Special Gasoline</td>\n",
       "      <td>749985</td>\n",
       "    </tr>\n",
       "    <tr>\n",
       "      <th>1</th>\n",
       "      <td>Special Diesel</td>\n",
       "      <td>2752347</td>\n",
       "    </tr>\n",
       "    <tr>\n",
       "      <th>2</th>\n",
       "      <td>Special Diesel</td>\n",
       "      <td>3482050</td>\n",
       "    </tr>\n",
       "    <tr>\n",
       "      <th>3</th>\n",
       "      <td>Lubricant</td>\n",
       "      <td>3508856</td>\n",
       "    </tr>\n",
       "    <tr>\n",
       "      <th>4</th>\n",
       "      <td>Diesel Auto Clean</td>\n",
       "      <td>3508856</td>\n",
       "    </tr>\n",
       "  </tbody>\n",
       "</table>\n",
       "</div>"
      ],
      "text/plain": [
       "             product  basket_id\n",
       "0   Special Gasoline     749985\n",
       "1     Special Diesel    2752347\n",
       "2     Special Diesel    3482050\n",
       "3          Lubricant    3508856\n",
       "4  Diesel Auto Clean    3508856"
      ]
     },
     "execution_count": 170,
     "metadata": {},
     "output_type": "execute_result"
    }
   ],
   "source": [
    "df.head()"
   ]
  },
  {
   "cell_type": "code",
   "execution_count": 125,
   "metadata": {},
   "outputs": [],
   "source": [
    "# Write this data out\n",
    "df.to_csv('data/products.csv', index=False)"
   ]
  },
  {
   "cell_type": "markdown",
   "metadata": {},
   "source": [
    "### Data Import and Organization"
   ]
  },
  {
   "cell_type": "markdown",
   "metadata": {},
   "source": [
    "#### Notice how the dataframe reads ~12 times faster"
   ]
  },
  {
   "cell_type": "code",
   "execution_count": 4,
   "metadata": {},
   "outputs": [
    {
     "name": "stdout",
     "output_type": "stream",
     "text": [
      "Finished reading dataframe in 4.66 seconds\n"
     ]
    }
   ],
   "source": [
    "# Read in minimized data\n",
    "df = timed_df('data/products.csv')"
   ]
  },
  {
   "cell_type": "markdown",
   "metadata": {},
   "source": [
    "##### ~27 million entries "
   ]
  },
  {
   "cell_type": "code",
   "execution_count": 5,
   "metadata": {},
   "outputs": [
    {
     "data": {
      "text/plain": [
       "(26951165, 2)"
      ]
     },
     "execution_count": 5,
     "metadata": {},
     "output_type": "execute_result"
    }
   ],
   "source": [
    "df.shape"
   ]
  },
  {
   "cell_type": "code",
   "execution_count": 53,
   "metadata": {},
   "outputs": [],
   "source": [
    "df = df.iloc[:1000000] # limit to 10m"
   ]
  },
  {
   "cell_type": "code",
   "execution_count": 54,
   "metadata": {},
   "outputs": [],
   "source": [
    "# Get all unique products and baskets\n",
    "products = df['product'].unique()\n",
    "baskets = df.basket_id.unique()"
   ]
  },
  {
   "cell_type": "code",
   "execution_count": 55,
   "metadata": {},
   "outputs": [
    {
     "name": "stdout",
     "output_type": "stream",
     "text": [
      "There are 473,641 unique transactions.\n"
     ]
    }
   ],
   "source": [
    "print(f'There are {len(baskets):,} unique transactions.')"
   ]
  },
  {
   "cell_type": "markdown",
   "metadata": {},
   "source": [
    "# Parallel Vector Extraction "
   ]
  },
  {
   "cell_type": "markdown",
   "metadata": {},
   "source": [
    "#### Run the `cluster.sh` script with an integer argument to init that many engines "
   ]
  },
  {
   "cell_type": "code",
   "execution_count": 33,
   "metadata": {},
   "outputs": [
    {
     "name": "stdout",
     "output_type": "stream",
     "text": [
      "Running 10 nodes\n"
     ]
    }
   ],
   "source": [
    "# Get engines\n",
    "rc = ipp.Client()\n",
    "dv = rc[:]\n",
    "print(f'Running {len(dv):,} nodes')"
   ]
  },
  {
   "cell_type": "code",
   "execution_count": 56,
   "metadata": {
    "scrolled": true
   },
   "outputs": [
    {
     "data": {
      "text/plain": [
       "<AsyncResult: _push>"
      ]
     },
     "execution_count": 56,
     "metadata": {},
     "output_type": "execute_result"
    }
   ],
   "source": [
    "# Push global variables to all engines\n",
    "dv.push(dict(df=df, products=products))"
   ]
  },
  {
   "cell_type": "code",
   "execution_count": 57,
   "metadata": {},
   "outputs": [],
   "source": [
    "# Parallel approach that generates a binary purchase vector for a given basket id\n",
    "@dv.parallel(block=True)\n",
    "def gen_vector(basket_id):\n",
    "    # Get all products in transaction\n",
    "    transaction = df.loc[df.basket_id == basket_id]['product']\n",
    "    # Cast to array\n",
    "    transaction = transaction.values\n",
    "    # Generate binary vector\n",
    "    return [1 if p in transaction else 0 for p in products]"
   ]
  },
  {
   "cell_type": "code",
   "execution_count": 86,
   "metadata": {},
   "outputs": [],
   "source": [
    "def estimate(num_tests):\n",
    "    \"\"\"\n",
    "    Estimates how long it will take (hours) to generate\n",
    "    a binary purchase matrix for a given dataset\n",
    "    by extrapolating the results from a timed test\n",
    "    on a subsection of the total transactions.\n",
    "    \"\"\"\n",
    "    start = time.time()\n",
    "    # Compiles the results from all engines\n",
    "    results = np.array(gen_vector.map(baskets[:num_tests]))\n",
    "    \n",
    "    return (((time.time() - start)/num_tests)*len(baskets))/3600"
   ]
  },
  {
   "cell_type": "code",
   "execution_count": 87,
   "metadata": {},
   "outputs": [],
   "source": [
    "# dv.push(dict(data))\n",
    "e = estimate(1000)"
   ]
  },
  {
   "cell_type": "code",
   "execution_count": 88,
   "metadata": {},
   "outputs": [
    {
     "name": "stdout",
     "output_type": "stream",
     "text": [
      "It will take 0.093 hour(s) (5.58 minutes) to compute this with 10 engines for a dataset with 1,000,000 entries.\n"
     ]
    }
   ],
   "source": [
    "print(f'It will take {e:,.3f} hour(s) ({e*60:,.2f} minutes) to compute this with {len(dv)} engines for a dataset with {df.shape[0]:,} entries.')"
   ]
  },
  {
   "cell_type": "code",
   "execution_count": null,
   "metadata": {},
   "outputs": [],
   "source": [
    "start = time.time()\n",
    "\n",
    "output = np.array(gen_vector.map(baskets))\n",
    "\n",
    "print(f'Finished in {time.time()-start/60:.2f} minutes')"
   ]
  },
  {
   "cell_type": "code",
   "execution_count": null,
   "metadata": {},
   "outputs": [],
   "source": []
  }
 ],
 "metadata": {
  "kernelspec": {
   "display_name": "Python 3",
   "language": "python",
   "name": "python3"
  },
  "language_info": {
   "codemirror_mode": {
    "name": "ipython",
    "version": 3
   },
   "file_extension": ".py",
   "mimetype": "text/x-python",
   "name": "python",
   "nbconvert_exporter": "python",
   "pygments_lexer": "ipython3",
   "version": "3.8.3"
  }
 },
 "nbformat": 4,
 "nbformat_minor": 4
}
