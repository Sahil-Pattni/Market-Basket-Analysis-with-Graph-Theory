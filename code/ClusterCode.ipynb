{
 "cells": [
  {
   "cell_type": "code",
   "execution_count": 175,
   "metadata": {},
   "outputs": [],
   "source": [
    "import matplotlib.pyplot as plt\n",
    "import ipyparallel as ipp\n",
    "from math import sqrt\n",
    "import seaborn as sns\n",
    "import pandas as pd\n",
    "import numpy as np\n",
    "import time\n",
    "import re"
   ]
  },
  {
   "cell_type": "markdown",
   "metadata": {},
   "source": [
    "# Run Parallel Python\n",
    "\n",
    "To initialize the cluster, run this command: \n",
    "`!ipcluster start --n=X` where `X` is the number of engines you want to run."
   ]
  },
  {
   "cell_type": "code",
   "execution_count": 159,
   "metadata": {
    "scrolled": true
   },
   "outputs": [
    {
     "name": "stdout",
     "output_type": "stream",
     "text": [
      "Running 50 nodes\n"
     ]
    }
   ],
   "source": [
    "rc = ipp.Client()\n",
    "dv = rc[:]\n",
    "print(f'Running {len(dv)} nodes')"
   ]
  },
  {
   "cell_type": "code",
   "execution_count": 6,
   "metadata": {},
   "outputs": [],
   "source": [
    "df = pd.read_csv('data/fixed_data.csv')"
   ]
  },
  {
   "cell_type": "code",
   "execution_count": 197,
   "metadata": {},
   "outputs": [],
   "source": [
    "data = df[:10000000]"
   ]
  },
  {
   "cell_type": "code",
   "execution_count": 198,
   "metadata": {},
   "outputs": [
    {
     "data": {
      "text/plain": [
       "(10000000, 15)"
      ]
     },
     "execution_count": 198,
     "metadata": {},
     "output_type": "execute_result"
    }
   ],
   "source": [
    "data.shape"
   ]
  },
  {
   "cell_type": "code",
   "execution_count": 199,
   "metadata": {
    "scrolled": true
   },
   "outputs": [
    {
     "name": "stdout",
     "output_type": "stream",
     "text": [
      "There are 2,604,106 unique baskets.\n",
      "There are 44 unique products.\n"
     ]
    }
   ],
   "source": [
    "baskets = data.basket_id.unique()\n",
    "print(f'There are {len(baskets):,} unique baskets.')\n",
    "products = data['product'].unique()\n",
    "print(f'There are {len(products):,} unique products.')"
   ]
  },
  {
   "cell_type": "markdown",
   "metadata": {},
   "source": [
    "### Single core purchase vector extraction"
   ]
  },
  {
   "cell_type": "code",
   "execution_count": 163,
   "metadata": {},
   "outputs": [],
   "source": [
    "def in_basket_single(b_id):\n",
    "    global output_log\n",
    "    basket_ls = data.loc[data.basket_id == b_id]['product']\n",
    "    return [1 if p in basket_ls.values else 0 for p in products]"
   ]
  },
  {
   "cell_type": "markdown",
   "metadata": {},
   "source": [
    "### Parallel purchase vector extraction"
   ]
  },
  {
   "cell_type": "code",
   "execution_count": 164,
   "metadata": {},
   "outputs": [],
   "source": [
    "@dv.parallel(block=True)\n",
    "def in_basket(b_id):\n",
    "    global output_log\n",
    "    basket_ls = data.loc[data.basket_id == b_id]['product']\n",
    "    return [1 if p in basket_ls.values else 0 for p in products]"
   ]
  },
  {
   "cell_type": "code",
   "execution_count": 165,
   "metadata": {},
   "outputs": [
    {
     "data": {
      "text/plain": [
       "<AsyncResult: _push>"
      ]
     },
     "execution_count": 165,
     "metadata": {},
     "output_type": "execute_result"
    }
   ],
   "source": [
    "dv.push(dict(data=data, products=products, output_log=output_log))"
   ]
  },
  {
   "cell_type": "markdown",
   "metadata": {},
   "source": [
    "### Estimate time for all baskets in current slice"
   ]
  },
  {
   "cell_type": "code",
   "execution_count": 193,
   "metadata": {},
   "outputs": [],
   "source": [
    "def estimate(num_tests):\n",
    "    start = time.time()\n",
    "    res_set = in_basket.map(baskets[:num_tests])\n",
    "    return (((time.time() - start)/num_tests)*len(baskets))/3600"
   ]
  },
  {
   "cell_type": "markdown",
   "metadata": {},
   "source": [
    "### Test the performance of single-core vs. parallel"
   ]
  },
  {
   "cell_type": "code",
   "execution_count": 183,
   "metadata": {},
   "outputs": [],
   "source": [
    "def speed_test(num_tests):\n",
    "    \n",
    "    # Linear\n",
    "    temp_set = []\n",
    "    start = time.time()\n",
    "    for i in range(num_tests):\n",
    "        temp_set.append(in_basket_single(baskets[i]))\n",
    "    timed_test = (time.time() - start)\n",
    "    \n",
    "    print(f'Finished linear in {round(timed_test, 2)} seconds.')\n",
    "    \n",
    "    # Parallel\n",
    "    end_parallel = estimate(num_tests)\n",
    "    print(f'Finished parallel in {round(end_parallel, 2)} seconds.')\n",
    "    \n",
    "    # Extrapolate for all baskets in slice\n",
    "    extrapolate = lambda x: ((x/num_tests)*len(baskets))/3600\n",
    "    lin_est, par_est = extrapolate(timed_test), extrapolate(end_parallel)\n",
    "    \n",
    "    print(f'\\nEstimated Completion Time (All {len(baskets):,} Baskets):\\nLinear: {round(lin_est, 1)} hours\\nParallel ({len(dv)} nodes): {round(par_est, 1)} hours')\n",
    "    "
   ]
  },
  {
   "cell_type": "code",
   "execution_count": 184,
   "metadata": {},
   "outputs": [
    {
     "name": "stdout",
     "output_type": "stream",
     "text": [
      "Finished linear in 48.88 seconds.\n",
      "Finished parallel in 14.08 seconds.\n",
      "\n",
      "Estimated Completion Time (All 473,641 Baskets):\n",
      "Linear: 6.4 hours\n",
      "Parallel (50 nodes): 1.9 hours\n"
     ]
    }
   ],
   "source": [
    "speed_test(1000) # 50 nodes / 1,000,000 slice"
   ]
  },
  {
   "cell_type": "markdown",
   "metadata": {},
   "source": [
    "#### Find an optimal run-time based on estimates"
   ]
  },
  {
   "cell_type": "code",
   "execution_count": 201,
   "metadata": {
    "scrolled": true
   },
   "outputs": [
    {
     "name": "stdout",
     "output_type": "stream",
     "text": [
      "Estimated Time: 10.28 hours.\n",
      "Nodes: 50\n",
      "Matrix Size: (2,604,106 x 44)\n"
     ]
    }
   ],
   "source": [
    "# 10,000,000 slice\n",
    "e = estimate(1000)\n",
    "\n",
    "print(f'Estimated Time: {round(e, 2)} hours.\\nNodes: {len(dv)}\\nMatrix Size: ({len(baskets):,} x {len(products)})')"
   ]
  },
  {
   "cell_type": "markdown",
   "metadata": {},
   "source": [
    "## Parallel Product Feature Extraction"
   ]
  },
  {
   "cell_type": "code",
   "execution_count": null,
   "metadata": {},
   "outputs": [],
   "source": [
    "# TODO: WRITE THIS"
   ]
  }
 ],
 "metadata": {
  "kernelspec": {
   "display_name": "Python 3",
   "language": "python",
   "name": "python3"
  }
 },
 "nbformat": 4,
 "nbformat_minor": 4
}
