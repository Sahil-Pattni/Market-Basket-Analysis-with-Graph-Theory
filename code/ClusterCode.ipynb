{
 "cells": [
  {
   "cell_type": "code",
   "execution_count": 136,
   "metadata": {},
   "outputs": [],
   "source": [
    "import ipyparallel as ipp\n",
    "import pandas as pd\n",
    "import numpy as np\n",
    "import math\n",
    "import time"
   ]
  },
  {
   "cell_type": "markdown",
   "metadata": {},
   "source": [
    "# Start Clusters\n",
    "\n",
    "Run this command: \n",
    "`!ipcluster start --n=X` where `X` is the number of engines you want to run."
   ]
  },
  {
   "cell_type": "code",
   "execution_count": 159,
   "metadata": {
    "scrolled": true
   },
   "outputs": [
    {
     "name": "stdout",
     "output_type": "stream",
     "text": [
      "Running 50 nodes\n"
     ]
    }
   ],
   "source": [
    "rc = ipp.Client()\n",
    "dv = rc[:]\n",
    "print(f'Running {len(dv)} nodes')"
   ]
  },
  {
   "cell_type": "code",
   "execution_count": 6,
   "metadata": {},
   "outputs": [],
   "source": [
    "df = pd.read_csv('data/fixed_data.csv')"
   ]
  },
  {
   "cell_type": "code",
   "execution_count": 160,
   "metadata": {},
   "outputs": [],
   "source": [
    "data = df[:1000000]"
   ]
  },
  {
   "cell_type": "code",
   "execution_count": 161,
   "metadata": {},
   "outputs": [
    {
     "data": {
      "text/plain": [
       "(1000000, 15)"
      ]
     },
     "execution_count": 161,
     "metadata": {},
     "output_type": "execute_result"
    }
   ],
   "source": [
    "data.shape"
   ]
  },
  {
   "cell_type": "code",
   "execution_count": 162,
   "metadata": {
    "scrolled": true
   },
   "outputs": [
    {
     "name": "stdout",
     "output_type": "stream",
     "text": [
      "There are 473,641 unique baskets.\n",
      "There are 40 unique products.\n"
     ]
    }
   ],
   "source": [
    "baskets = data.basket_id.unique()\n",
    "print(f'There are {len(baskets):,} unique baskets.')\n",
    "products = data['product'].unique()\n",
    "print(f'There are {len(products):,} unique products.')"
   ]
  },
  {
   "cell_type": "code",
   "execution_count": 163,
   "metadata": {},
   "outputs": [],
   "source": [
    "def in_basket_single(b_id):\n",
    "    global output_log\n",
    "    basket_ls = data.loc[data.basket_id == b_id]['product']\n",
    "    return [1 if p in basket_ls.values else 0 for p in products]"
   ]
  },
  {
   "cell_type": "code",
   "execution_count": 164,
   "metadata": {},
   "outputs": [],
   "source": [
    "@dv.parallel(block=True)\n",
    "def in_basket(b_id):\n",
    "    global output_log\n",
    "    basket_ls = data.loc[data.basket_id == b_id]['product']\n",
    "    return [1 if p in basket_ls.values else 0 for p in products]"
   ]
  },
  {
   "cell_type": "code",
   "execution_count": 165,
   "metadata": {},
   "outputs": [
    {
     "data": {
      "text/plain": [
       "<AsyncResult: _push>"
      ]
     },
     "execution_count": 165,
     "metadata": {},
     "output_type": "execute_result"
    }
   ],
   "source": [
    "dv.push(dict(data=data, products=products, output_log=output_log))"
   ]
  },
  {
   "cell_type": "code",
   "execution_count": 172,
   "metadata": {},
   "outputs": [],
   "source": [
    "def speed_test(num_tests):\n",
    "    \n",
    "    # Linear\n",
    "    temp_set = []\n",
    "    start = time.time()\n",
    "    for i in range(num_tests):\n",
    "        temp_set.append(in_basket_single(baskets[i]))\n",
    "    timed_test = (time.time() - start)\n",
    "    \n",
    "    print(f'Finished linear in {round(timed_test, 2)}')\n",
    "    \n",
    "    # Parallel\n",
    "    start = time.time()\n",
    "    res_set = in_basket.map(baskets[:num_tests])\n",
    "    end_parallel = time.time() - start\n",
    "    \n",
    "    print(f'Finished parallel in {round(end_parallel, 2)}')\n",
    "    \n",
    "    assert(res_set == temp_set)\n",
    "    per_test = lambda x: ((x/num_tests)*len(baskets))/3600\n",
    "    lin_est, par_est = per_test(timed_test), per_test(end_parallel)\n",
    "    print(f'\\nEstimated Completion Time (All {len(baskets)} Baskets):\\nLinear: {round(lin_est, 1)} hours\\nParallel ({len(dv)} nodes): {round(par_est, 1)} hours')\n",
    "    "
   ]
  },
  {
   "cell_type": "code",
   "execution_count": 173,
   "metadata": {},
   "outputs": [
    {
     "name": "stdout",
     "output_type": "stream",
     "text": [
      "Finished linear in 48.93\n",
      "Finished parallel in 13.62\n",
      "\n",
      "Estimated Completion Time (All 473641 Baskets):\n",
      "Linear: 6.4 hours\n",
      "Parallel (50 nodes): 1.8 hours\n"
     ]
    }
   ],
   "source": [
    "speed_test(1000) # 50 nodes"
   ]
  },
  {
   "cell_type": "code",
   "execution_count": null,
   "metadata": {},
   "outputs": [],
   "source": []
  }
 ],
 "metadata": {
  "kernelspec": {
   "display_name": "Python 3",
   "language": "python",
   "name": "python3"
  }
 },
 "nbformat": 4,
 "nbformat_minor": 4
}
