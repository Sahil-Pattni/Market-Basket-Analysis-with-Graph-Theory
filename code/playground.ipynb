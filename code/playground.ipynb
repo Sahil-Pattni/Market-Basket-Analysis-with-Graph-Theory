{
 "metadata": {
  "language_info": {
   "codemirror_mode": {
    "name": "ipython",
    "version": 3
   },
   "file_extension": ".py",
   "mimetype": "text/x-python",
   "name": "python",
   "nbconvert_exporter": "python",
   "pygments_lexer": "ipython3",
   "version": "3.8.3-final"
  },
  "orig_nbformat": 2,
  "kernelspec": {
   "name": "python3",
   "display_name": "Python 3.8.3 64-bit ('anaconda3': virtualenv)",
   "metadata": {
    "interpreter": {
     "hash": "0556dc4ebd5cb7fbb68c9222fa1010c1dce76b4ac3868e77ac8a92afc16e4250"
    }
   }
  }
 },
 "nbformat": 4,
 "nbformat_minor": 2,
 "cells": [
  {
   "source": [
    "from apriori import get_apriori_rules\n",
    "from arm import MSTARM, Rule\n",
    "import time\n",
    "import pickle\n",
    "import os"
   ],
   "cell_type": "code",
   "metadata": {},
   "execution_count": 1,
   "outputs": []
  },
  {
   "cell_type": "code",
   "execution_count": 2,
   "metadata": {},
   "outputs": [],
   "source": [
    "def say(message):\n",
    "    os.system(f'say \"{message}\"')"
   ]
  },
  {
   "cell_type": "code",
   "execution_count": 3,
   "metadata": {},
   "outputs": [],
   "source": [
    "min_support, min_confidence = 0.005, 0.6"
   ]
  },
  {
   "cell_type": "code",
   "execution_count": 5,
   "metadata": {},
   "outputs": [
    {
     "output_type": "stream",
     "name": "stdout",
     "text": [
      "Successfully initialized instance with graphs.\n"
     ]
    }
   ],
   "source": [
    "arm = MSTARM('data/rust_vectors.csv', debug_mode=True)"
   ]
  },
  {
   "source": [
    "apri_rules = get_apriori_rules(min_support=min_support, min_confidence=min_confidence)"
   ],
   "cell_type": "code",
   "metadata": {},
   "execution_count": 4,
   "outputs": [
    {
     "output_type": "stream",
     "name": "stdout",
     "text": [
      "Finished in 3.38 minutes.\n"
     ]
    }
   ]
  },
  {
   "cell_type": "code",
   "execution_count": 6,
   "metadata": {
    "tags": []
   },
   "outputs": [
    {
     "output_type": "stream",
     "name": "stdout",
     "text": [
      "Finished cluster #1 of 6 | 284.93 seconds\n",
      "Finished cluster #2 of 6 | 38.40 seconds\n",
      "Finished cluster #3 of 6 | 0.63 seconds\n",
      "Finished cluster #4 of 6 | 1.17 seconds\n",
      "Finished cluster #5 of 6 | 15.11 seconds\n",
      "Finished cluster #6 of 6 | 0.70 seconds\n",
      "Finished in 5.68 minutes\n"
     ]
    }
   ],
   "source": [
    "arm_rules = arm.generate_rules(min_support=min_support, min_confidence=min_confidence)"
   ]
  },
  {
   "cell_type": "code",
   "execution_count": 7,
   "metadata": {},
   "outputs": [],
   "source": [
    "say(\"Your code has finished running.\")"
   ]
  },
  {
   "cell_type": "code",
   "execution_count": 8,
   "metadata": {},
   "outputs": [],
   "source": [
    "import pickle\n",
    "with open('data/output/arm_rules.pkl', 'wb') as f:\n",
    "    pickle.dump(arm_rules, f)"
   ]
  },
  {
   "source": [
    "# with open('data/output/arm_rules.pkl', 'rb') as f:\n",
    "#     # q = pickle.load(f)\n",
    "\n",
    "# len(q)"
   ],
   "cell_type": "code",
   "metadata": {},
   "execution_count": 9,
   "outputs": []
  },
  {
   "source": [
    "#### Sort rules by support; highest to lowest"
   ],
   "cell_type": "markdown",
   "metadata": {}
  },
  {
   "cell_type": "code",
   "execution_count": 10,
   "metadata": {},
   "outputs": [],
   "source": [
    "key = lambda x: x.support\n",
    "arm_rules.sort(key=key, reverse=True)\n",
    "apri_rules.sort(key=key, reverse=True)"
   ]
  },
  {
   "source": [
    "### Top 10 MST ARM rules"
   ],
   "cell_type": "markdown",
   "metadata": {}
  },
  {
   "cell_type": "code",
   "execution_count": 11,
   "metadata": {
    "tags": []
   },
   "outputs": [
    {
     "output_type": "stream",
     "name": "stdout",
     "text": [
      "Diesel Auto Clean                     -> Special Gasoline, Diesel Auto Clean      0.11983870295094343\nDiesel Auto Clean                     -> Special Gasoline                         0.11983870295094343\nSpecial Gasoline, Diesel Auto Clean   -> Special Gasoline                         0.11983870295094343\nEthanol                               -> Special Gasoline                         0.1090004283804241\nSpecial Gasoline, Ethanol             -> Ethanol                                  0.1090004283804241\nSpecial Gasoline, Ethanol             -> Special Gasoline                         0.1090004283804241\nSpecial Diesel                        -> Gasoline                                 0.08091681482530669\nSpecial Diesel, Gasoline              -> Special Diesel                           0.08091681482530669\nSpecial Diesel, Gasoline              -> Gasoline                                 0.08091681482530669\nLubricant                             -> Gasoline                                 0.07129353399243829\n"
     ]
    }
   ],
   "source": [
    "for rule in arm_rules[:10]:\n",
    "    print(f'{\", \".join(rule.lhs).ljust(37)} -> {\", \".join(rule.rhs).ljust(40)} {rule.support}')"
   ]
  },
  {
   "source": [
    "### Top 10 Apriori rules"
   ],
   "cell_type": "markdown",
   "metadata": {}
  },
  {
   "cell_type": "code",
   "execution_count": 12,
   "metadata": {
    "tags": []
   },
   "outputs": [
    {
     "output_type": "stream",
     "name": "stdout",
     "text": [
      "Gasoline                              -> Special Gasoline                         0.38946968271597415\nDiesel Auto Clean                     -> Special Gasoline                         0.11983870295094343\nEthanol                               -> Special Gasoline                         0.1090004283804241\nDiesel Auto Clean, Gasoline           -> Special Gasoline                         0.10117849780111501\nDiesel Auto Clean, Special Gasoline   -> Gasoline                                 0.10117849780111501\nEthanol                               -> Gasoline                                 0.09478354104370691\nSpecial Diesel                        -> Special Gasoline                         0.0913624553866484\nEthanol, Gasoline                     -> Special Gasoline                         0.09047744333953002\nEthanol, Special Gasoline             -> Gasoline                                 0.09047744333953002\nEthanol                               -> Gasoline, Special Gasoline               0.09047744333953002\n"
     ]
    }
   ],
   "source": [
    "for rule in apri_rules[:10]:\n",
    "    print(f'{\", \".join(rule.lhs).ljust(37)} -> {\", \".join(rule.rhs).ljust(40)} {rule.support}')"
   ]
  },
  {
   "source": [
    "### Top 10 mutual rules between MST ARM and Apriori"
   ],
   "cell_type": "markdown",
   "metadata": {}
  },
  {
   "cell_type": "code",
   "execution_count": 13,
   "metadata": {},
   "outputs": [
    {
     "output_type": "stream",
     "name": "stdout",
     "text": [
      "Diesel Auto Clean                     -> Special Gasoline                         0.11983870295094343\nEthanol                               -> Special Gasoline                         0.1090004283804241\nSpecial Diesel                        -> Gasoline                                 0.08091681482530669\nLubricant                             -> Gasoline                                 0.07129353399243829\nCigarettes                            -> Special Gasoline                         0.06792453047756634\nDiesel                                -> Special Gasoline                         0.06716597617789723\nDiesel Auto Clean, Ethanol            -> Special Gasoline                         0.035968580823124624\nCold Alcoholic Beverages              -> Special Gasoline                         0.02517104947822726\nCigarettes, Diesel                    -> Special Gasoline                         0.0152823611237366\nFilters                               -> Gasoline                                 0.010048778481580698\nCigarettes, Cold Alcoholic Beverages  -> Special Gasoline                         0.008620651549520604\nAdditives And Fluids                  -> Gasoline                                 0.00809983012765506\nSeveral                               -> Special Gasoline                         0.006767795708854291\nCold Alcoholic Beverages, Diesel      -> Special Gasoline                         0.005168624103192597\n"
     ]
    }
   ],
   "source": [
    "for a in arm_rules:\n",
    "    for b in apri_rules:\n",
    "        if (a.lhs == b.lhs) and (a.rhs == b.rhs):\n",
    "            print(f'{\", \".join(a.lhs).ljust(37)} -> {\", \".join(a.rhs).ljust(40)} {a.support}')"
   ]
  },
  {
   "cell_type": "code",
   "execution_count": 14,
   "metadata": {},
   "outputs": [
    {
     "output_type": "stream",
     "name": "stdout",
     "text": [
      "Special Gasoline, Diesel Auto Clean, Several, Ethanol, Cigarettes, Accessories, Cold Alcoholic Beverages, Coal, Diesel, Hot Alcoholic Beverages, Batteries, Special Diesel S10\n \nSpecial Diesel, Lubricant, Gasoline, Filters, Additives And Fluids, Pickets, Canisters, Extinguisher, Covers\n \nPopsicle And Ice Creams, Energy, Water, Mate Herb\n \nChewing Gum And Candy, Condom, Flavoring, Personal Hygiene, Perfumery\n \nChips, The Bakery, Juices And Soft Drinks, Biscuits And Wafer, Dairy Products And Materials, Salted Biscuit, Slippers, Pastas, Popcorn, Chas Juice Cafe In Powder\n \nChocolates, Derivatives Peanuts, Cereals, Toys, Sweet Coconut James\n \n"
     ]
    }
   ],
   "source": [
    "names = arm.names\n",
    "for cluster in arm.clusters:\n",
    "    items = []\n",
    "    for i in cluster:\n",
    "        items.append(names[i])\n",
    "    print(', '.join(items))\n",
    "    print(' ')"
   ]
  }
 ]
}