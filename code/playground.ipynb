{
 "metadata": {
  "language_info": {
   "codemirror_mode": {
    "name": "ipython",
    "version": 3
   },
   "file_extension": ".py",
   "mimetype": "text/x-python",
   "name": "python",
   "nbconvert_exporter": "python",
   "pygments_lexer": "ipython3",
   "version": "3.8.3-final"
  },
  "orig_nbformat": 2,
  "kernelspec": {
   "name": "python3",
   "display_name": "Python 3.8.3 64-bit ('base': conda)",
   "metadata": {
    "interpreter": {
     "hash": "0556dc4ebd5cb7fbb68c9222fa1010c1dce76b4ac3868e77ac8a92afc16e4250"
    }
   }
  }
 },
 "nbformat": 4,
 "nbformat_minor": 2,
 "cells": [
  {
   "source": [
    "from apriori import get_apriori_rules\n",
    "from arm import MSTARM, Rule"
   ],
   "cell_type": "code",
   "metadata": {},
   "execution_count": 1,
   "outputs": []
  },
  {
   "cell_type": "code",
   "execution_count": 2,
   "metadata": {},
   "outputs": [],
   "source": [
    "min_support, min_confidence = 0.005, 0.6"
   ]
  },
  {
   "cell_type": "code",
   "execution_count": 3,
   "metadata": {},
   "outputs": [
    {
     "output_type": "stream",
     "name": "stdout",
     "text": [
      "Successfully initialized instance with graphs.\n",
      "Finished generating rules in 606.19 seconds\n"
     ]
    }
   ],
   "source": [
    "apri_rules = get_apriori_rules(min_support=min_support, min_confidence=min_confidence)\n",
    "arm = MSTARM('data/rust_vectors.csv', debug_mode=True)\n",
    "arm_rules = arm.generate_rules(min_support=min_support, min_confidence=min_confidence)"
   ]
  },
  {
   "cell_type": "code",
   "execution_count": 4,
   "metadata": {},
   "outputs": [
    {
     "output_type": "execute_result",
     "data": {
      "text/plain": [
       "0"
      ]
     },
     "metadata": {},
     "execution_count": 4
    }
   ],
   "source": [
    "import os\n",
    "os.system('say \"Your code has finished running.\"')"
   ]
  },
  {
   "cell_type": "code",
   "execution_count": 93,
   "metadata": {},
   "outputs": [],
   "source": [
    "key = lambda x: x.support\n",
    "arm_rules.sort(key=key, reverse=True)\n",
    "apri_rules.sort(key=key, reverse=True)"
   ]
  },
  {
   "cell_type": "code",
   "execution_count": 94,
   "metadata": {
    "tags": []
   },
   "outputs": [
    {
     "output_type": "stream",
     "name": "stdout",
     "text": [
      "Diesel Auto Clean                             -> Special Gasoline                                   0.11983870295094343\nEthanol                                       -> Special Gasoline                                   0.1090004283804241\nSpecial Diesel                                -> Gasoline                                           0.08091681482530669\nLubricant                                     -> Gasoline                                           0.07129353399243829\nCigarettes                                    -> Special Gasoline                                   0.06792453047756634\nDiesel                                        -> Special Gasoline                                   0.06716597617789723\nDiesel Auto Clean                             -> Ethanol                                            0.03669350274315297\nDiesel Auto Clean, Ethanol                    -> Special Gasoline                                   0.035968580823124624\nEthanol                                       -> Special Gasoline, Diesel Auto Clean                0.035968580823124624\nDiesel Auto Clean                             -> Special Gasoline, Ethanol                          0.035968580823124624\n"
     ]
    }
   ],
   "source": [
    "for rule in arm_rules[:10]:\n",
    "    print(f'{\", \".join(rule.lhs).ljust(45)} -> {\", \".join(rule.rhs).ljust(50)} {rule.support}')"
   ]
  },
  {
   "cell_type": "code",
   "execution_count": 95,
   "metadata": {
    "tags": []
   },
   "outputs": [
    {
     "output_type": "stream",
     "name": "stdout",
     "text": [
      "Gasoline                                                               -> Special Gasoline                                   0.38946968271597415\nDiesel Auto Clean                                                      -> Special Gasoline                                   0.11983870295094343\nEthanol                                                                -> Special Gasoline                                   0.1090004283804241\nDiesel Auto Clean, Gasoline                                            -> Special Gasoline                                   0.10117849780111501\nDiesel Auto Clean, Special Gasoline                                    -> Gasoline                                           0.10117849780111501\nEthanol                                                                -> Gasoline                                           0.09478354104370691\nSpecial Diesel                                                         -> Special Gasoline                                   0.0913624553866484\nEthanol, Gasoline                                                      -> Special Gasoline                                   0.09047744333953002\nEthanol, Special Gasoline                                              -> Gasoline                                           0.09047744333953002\nEthanol                                                                -> Gasoline, Special Gasoline                         0.09047744333953002\n"
     ]
    }
   ],
   "source": [
    "for rule in apri_rules[:10]:\n",
    "    print(f'{\", \".join(rule.lhs).ljust(70)} -> {\", \".join(rule.rhs).ljust(50)} {rule.support}')"
   ]
  },
  {
   "cell_type": "code",
   "execution_count": 97,
   "metadata": {},
   "outputs": [
    {
     "output_type": "stream",
     "name": "stdout",
     "text": [
      "Diesel Auto Clean                             -> Special Gasoline                                   0.11983870295094343\nEthanol                                       -> Special Gasoline                                   0.1090004283804241\nSpecial Diesel                                -> Gasoline                                           0.08091681482530669\nLubricant                                     -> Gasoline                                           0.07129353399243829\nCigarettes                                    -> Special Gasoline                                   0.06792453047756634\nDiesel                                        -> Special Gasoline                                   0.06716597617789723\nDiesel Auto Clean, Ethanol                    -> Special Gasoline                                   0.035968580823124624\nCold Alcoholic Beverages                      -> Special Gasoline                                   0.02517104947822726\nCigarettes, Diesel                            -> Special Gasoline                                   0.0152823611237366\nFilters                                       -> Gasoline                                           0.010048778481580698\nCigarettes, Cold Alcoholic Beverages          -> Special Gasoline                                   0.008620651549520604\nAdditives And Fluids                          -> Gasoline                                           0.00809983012765506\nSeveral                                       -> Special Gasoline                                   0.006767795708854291\nCold Alcoholic Beverages, Diesel              -> Special Gasoline                                   0.005168624103192597\n"
     ]
    }
   ],
   "source": [
    "for a in arm_rules:\n",
    "    for b in apri_rules:\n",
    "        if (a.lhs == b.lhs) and (a.rhs == b.rhs):\n",
    "            print(f'{\", \".join(a.lhs).ljust(45)} -> {\", \".join(a.rhs).ljust(50)} {a.support}')"
   ]
  },
  {
   "cell_type": "code",
   "execution_count": null,
   "metadata": {},
   "outputs": [],
   "source": [
    "data = "
   ]
  }
 ]
}