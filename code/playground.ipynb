{
 "metadata": {
  "language_info": {
   "codemirror_mode": {
    "name": "ipython",
    "version": 3
   },
   "file_extension": ".py",
   "mimetype": "text/x-python",
   "name": "python",
   "nbconvert_exporter": "python",
   "pygments_lexer": "ipython3",
   "version": "3.8.3-final"
  },
  "orig_nbformat": 2,
  "kernelspec": {
   "name": "python3",
   "display_name": "Python 3.8.3 64-bit ('base': conda)",
   "metadata": {
    "interpreter": {
     "hash": "0556dc4ebd5cb7fbb68c9222fa1010c1dce76b4ac3868e77ac8a92afc16e4250"
    }
   }
  }
 },
 "nbformat": 4,
 "nbformat_minor": 2,
 "cells": [
  {
   "source": [
    "from apriori import get_apriori_rules\n",
    "from arm import MSTARM, Rule\n",
    "import os"
   ],
   "cell_type": "code",
   "metadata": {},
   "execution_count": 1,
   "outputs": []
  },
  {
   "cell_type": "code",
   "execution_count": 2,
   "metadata": {},
   "outputs": [],
   "source": [
    "def say(message):\n",
    "    os.system(f'say \"{message}\"')"
   ]
  },
  {
   "cell_type": "code",
   "execution_count": 3,
   "metadata": {},
   "outputs": [],
   "source": [
    "min_support, min_confidence = 0.005, 0.6"
   ]
  },
  {
   "cell_type": "code",
   "execution_count": 4,
   "metadata": {},
   "outputs": [
    {
     "output_type": "stream",
     "name": "stdout",
     "text": [
      "Successfully initialized instance with graphs.\n"
     ]
    }
   ],
   "source": [
    "arm = MSTARM('data/rust_vectors.csv', debug_mode=True)"
   ]
  },
  {
   "cell_type": "code",
   "execution_count": 5,
   "metadata": {},
   "outputs": [
    {
     "output_type": "stream",
     "name": "stdout",
     "text": [
      "Running 8,378,371 rules.\n",
      "Running 129,795 rules.\n",
      "Running 91 rules.\n",
      "Running 435 rules.\n",
      "Running 521,731 rules.\n",
      "Running 435 rules.\n",
      "Finished generating rules in 2,152.88 seconds\n"
     ]
    }
   ],
   "source": [
    "apri_rules = get_apriori_rules(min_support=min_support, min_confidence=min_confidence)\n",
    "arm_rules = arm.generate_rules(min_support=min_support, min_confidence=min_confidence)"
   ]
  },
  {
   "cell_type": "code",
   "execution_count": 6,
   "metadata": {},
   "outputs": [],
   "source": [
    "say(\"Your code has finished running.\")"
   ]
  },
  {
   "cell_type": "code",
   "execution_count": 7,
   "metadata": {},
   "outputs": [],
   "source": [
    "import pickle\n",
    "with open('data/output/arm_rules.pkl', 'wb') as f:\n",
    "    pickle.dump(arm_rules, f)"
   ]
  },
  {
   "cell_type": "code",
   "execution_count": 4,
   "metadata": {},
   "outputs": [],
   "source": [
    "from itertools import combinations\n",
    "\n",
    "rules = set()\n",
    "for set_size in range(1, len(arm.clusters[0])):\n",
    "    rules.update(combinations(arm.clusters[0], set_size))\n",
    "rules = list(combinations(rules, 2))"
   ]
  },
  {
   "cell_type": "code",
   "execution_count": 9,
   "metadata": {},
   "outputs": [],
   "source": [
    "def lam(r):\n",
    "    a, b = r\n",
    "    if len(a) == len(b):\n",
    "        if len(a) == 1:\n",
    "            return False\n",
    "    return True\n",
    "\n",
    "multi = list(filter(lam, rules))"
   ]
  },
  {
   "cell_type": "code",
   "execution_count": 12,
   "metadata": {},
   "outputs": [
    {
     "output_type": "stream",
     "name": "stdout",
     "text": [
      "48984, 0\n"
     ]
    }
   ],
   "source": [
    "count = 0\n",
    "match = 0\n",
    "for rule in multi:\n",
    "    a, b = rule\n",
    "    if len(a)== 1 or len(b) == 1:\n",
    "        if len(a) == len(b):\n",
    "            match += 1\n",
    "        else:\n",
    "            count += 1\n",
    "print(f'{count}, {match}')"
   ]
  },
  {
   "cell_type": "code",
   "execution_count": 93,
   "metadata": {},
   "outputs": [],
   "source": [
    "key = lambda x: x.support\n",
    "arm_rules.sort(key=key, reverse=True)\n",
    "apri_rules.sort(key=key, reverse=True)"
   ]
  },
  {
   "cell_type": "code",
   "execution_count": 94,
   "metadata": {
    "tags": []
   },
   "outputs": [
    {
     "output_type": "stream",
     "name": "stdout",
     "text": [
      "Diesel Auto Clean                             -> Special Gasoline                                   0.11983870295094343\nEthanol                                       -> Special Gasoline                                   0.1090004283804241\nSpecial Diesel                                -> Gasoline                                           0.08091681482530669\nLubricant                                     -> Gasoline                                           0.07129353399243829\nCigarettes                                    -> Special Gasoline                                   0.06792453047756634\nDiesel                                        -> Special Gasoline                                   0.06716597617789723\nDiesel Auto Clean                             -> Ethanol                                            0.03669350274315297\nDiesel Auto Clean, Ethanol                    -> Special Gasoline                                   0.035968580823124624\nEthanol                                       -> Special Gasoline, Diesel Auto Clean                0.035968580823124624\nDiesel Auto Clean                             -> Special Gasoline, Ethanol                          0.035968580823124624\n"
     ]
    }
   ],
   "source": [
    "for rule in arm_rules[:10]:\n",
    "    print(f'{\", \".join(rule.lhs).ljust(45)} -> {\", \".join(rule.rhs).ljust(50)} {rule.support}')"
   ]
  },
  {
   "cell_type": "code",
   "execution_count": 95,
   "metadata": {
    "tags": []
   },
   "outputs": [
    {
     "output_type": "error",
     "ename": "NameError",
     "evalue": "name 'apri_rules' is not defined",
     "traceback": [
      "\u001b[0;31m---------------------------------------------------------------------------\u001b[0m",
      "\u001b[0;31mNameError\u001b[0m                                 Traceback (most recent call last)",
      "\u001b[0;32m<ipython-input-95-b38869018042>\u001b[0m in \u001b[0;36m<module>\u001b[0;34m\u001b[0m\n\u001b[0;32m----> 1\u001b[0;31m \u001b[0;32mfor\u001b[0m \u001b[0mrule\u001b[0m \u001b[0;32min\u001b[0m \u001b[0mapri_rules\u001b[0m\u001b[0;34m[\u001b[0m\u001b[0;34m:\u001b[0m\u001b[0;36m10\u001b[0m\u001b[0;34m]\u001b[0m\u001b[0;34m:\u001b[0m\u001b[0;34m\u001b[0m\u001b[0;34m\u001b[0m\u001b[0m\n\u001b[0m\u001b[1;32m      2\u001b[0m     \u001b[0mprint\u001b[0m\u001b[0;34m(\u001b[0m\u001b[0;34mf'{\", \".join(rule.lhs).ljust(50)} -> {\", \".join(rule.rhs).ljust(50)} {rule.support}'\u001b[0m\u001b[0;34m)\u001b[0m\u001b[0;34m\u001b[0m\u001b[0;34m\u001b[0m\u001b[0m\n",
      "\u001b[0;31mNameError\u001b[0m: name 'apri_rules' is not defined"
     ]
    }
   ],
   "source": [
    "for rule in apri_rules[:10]:\n",
    "    print(f'{\", \".join(rule.lhs).ljust(50)} -> {\", \".join(rule.rhs).ljust(50)} {rule.support}')"
   ]
  },
  {
   "cell_type": "code",
   "execution_count": 97,
   "metadata": {},
   "outputs": [
    {
     "output_type": "stream",
     "name": "stdout",
     "text": [
      "Diesel Auto Clean                             -> Special Gasoline                                   0.11983870295094343\nEthanol                                       -> Special Gasoline                                   0.1090004283804241\nSpecial Diesel                                -> Gasoline                                           0.08091681482530669\nLubricant                                     -> Gasoline                                           0.07129353399243829\nCigarettes                                    -> Special Gasoline                                   0.06792453047756634\nDiesel                                        -> Special Gasoline                                   0.06716597617789723\nDiesel Auto Clean, Ethanol                    -> Special Gasoline                                   0.035968580823124624\nCold Alcoholic Beverages                      -> Special Gasoline                                   0.02517104947822726\nCigarettes, Diesel                            -> Special Gasoline                                   0.0152823611237366\nFilters                                       -> Gasoline                                           0.010048778481580698\nCigarettes, Cold Alcoholic Beverages          -> Special Gasoline                                   0.008620651549520604\nAdditives And Fluids                          -> Gasoline                                           0.00809983012765506\nSeveral                                       -> Special Gasoline                                   0.006767795708854291\nCold Alcoholic Beverages, Diesel              -> Special Gasoline                                   0.005168624103192597\n"
     ]
    }
   ],
   "source": [
    "for a in arm_rules:\n",
    "    for b in apri_rules:\n",
    "        if (a.lhs == b.lhs) and (a.rhs == b.rhs):\n",
    "            print(f'{\", \".join(a.lhs).ljust(45)} -> {\", \".join(a.rhs).ljust(50)} {a.support}')"
   ]
  },
  {
   "cell_type": "code",
   "execution_count": 25,
   "metadata": {},
   "outputs": [],
   "source": [
    "from itertools import combinations"
   ]
  },
  {
   "cell_type": "code",
   "execution_count": 66,
   "metadata": {},
   "outputs": [
    {
     "output_type": "execute_result",
     "data": {
      "text/plain": [
       "[(0, 3, 5, 8, 9, 10, 20, 26, 31, 33, 40, 44),\n",
       " (1, 2, 4, 6, 7, 19, 21, 23, 36),\n",
       " (11, 24, 32, 41),\n",
       " (12, 16, 18, 30, 42),\n",
       " (13, 14, 15, 17, 27, 28, 34, 37, 38, 43),\n",
       " (22, 25, 29, 35, 39)]"
      ]
     },
     "metadata": {},
     "execution_count": 66
    }
   ],
   "source": [
    "arm.clusters"
   ]
  },
  {
   "cell_type": "code",
   "execution_count": 84,
   "metadata": {},
   "outputs": [],
   "source": [
    "set_size = 1\n",
    "all_coms = set()\n",
    "for set_size in range(1, len(arm.clusters[0])):\n",
    "    all_coms.update(combinations(arm.clusters[0], set_size))\n",
    "all_coms = list(combinations(all_coms, 2))"
   ]
  },
  {
   "cell_type": "code",
   "execution_count": 85,
   "metadata": {},
   "outputs": [],
   "source": [
    "fil = list(filter(lambda x: (len(x[0]) != 1 and len(x[1]) != 1), all_coms))"
   ]
  },
  {
   "cell_type": "code",
   "execution_count": 86,
   "metadata": {},
   "outputs": [
    {
     "output_type": "execute_result",
     "data": {
      "text/plain": [
       "8378371"
      ]
     },
     "metadata": {},
     "execution_count": 86
    }
   ],
   "source": [
    "len(all_coms)"
   ]
  },
  {
   "cell_type": "code",
   "execution_count": 87,
   "metadata": {},
   "outputs": [
    {
     "output_type": "execute_result",
     "data": {
      "text/plain": [
       "8329321"
      ]
     },
     "metadata": {},
     "execution_count": 87
    }
   ],
   "source": [
    "len(fil)"
   ]
  },
  {
   "cell_type": "code",
   "execution_count": 93,
   "metadata": {
    "tags": []
   },
   "outputs": [
    {
     "output_type": "execute_result",
     "data": {
      "text/plain": [
       "66"
      ]
     },
     "metadata": {},
     "execution_count": 93
    }
   ],
   "source": [
    "count = 0\n",
    "for comb in all_coms:\n",
    "    a, b = comb\n",
    "    if len(a) == len(b):\n",
    "        if len(a) == 1:\n",
    "            count += 1\n",
    "    \n",
    "count"
   ]
  },
  {
   "cell_type": "code",
   "execution_count": 94,
   "metadata": {},
   "outputs": [
    {
     "output_type": "execute_result",
     "data": {
      "text/plain": [
       "48984"
      ]
     },
     "metadata": {},
     "execution_count": 94
    }
   ],
   "source": [
    "(len(all_coms) - len(fil)) - count"
   ]
  },
  {
   "cell_type": "code",
   "execution_count": 43,
   "metadata": {},
   "outputs": [
    {
     "output_type": "stream",
     "name": "stdout",
     "text": [
      "((0,), (3,))\n((0,), (5,))\n((0,), (8,))\n((0,), (9,))\n((0,), (10,))\n((0,), (20,))\n((0,), (26,))\n((0,), (31,))\n((0,), (33,))\n((0,), (40,))\n((0,), (44,))\n((3,), (5,))\n((3,), (8,))\n((3,), (9,))\n((3,), (10,))\n((3,), (20,))\n((3,), (26,))\n((3,), (31,))\n((3,), (33,))\n((3,), (40,))\n((3,), (44,))\n((5,), (8,))\n((5,), (9,))\n((5,), (10,))\n((5,), (20,))\n((5,), (26,))\n((5,), (31,))\n((5,), (33,))\n((5,), (40,))\n((5,), (44,))\n((8,), (9,))\n((8,), (10,))\n((8,), (20,))\n((8,), (26,))\n((8,), (31,))\n((8,), (33,))\n((8,), (40,))\n((8,), (44,))\n((9,), (10,))\n((9,), (20,))\n((9,), (26,))\n((9,), (31,))\n((9,), (33,))\n((9,), (40,))\n((9,), (44,))\n((10,), (20,))\n((10,), (26,))\n((10,), (31,))\n((10,), (33,))\n((10,), (40,))\n((10,), (44,))\n((20,), (26,))\n((20,), (31,))\n((20,), (33,))\n((20,), (40,))\n((20,), (44,))\n((26,), (31,))\n((26,), (33,))\n((26,), (40,))\n((26,), (44,))\n((31,), (33,))\n((31,), (40,))\n((31,), (44,))\n((33,), (40,))\n((33,), (44,))\n((40,), (44,))\n"
     ]
    }
   ],
   "source": [
    "for c in combs:\n",
    "    print(c)"
   ]
  },
  {
   "cell_type": "code",
   "execution_count": 29,
   "metadata": {},
   "outputs": [
    {
     "output_type": "execute_result",
     "data": {
      "text/plain": [
       "['c', 'd', 'e']"
      ]
     },
     "metadata": {},
     "execution_count": 29
    }
   ],
   "source": [
    "list(filter(lambda letter: letter in ['c', 'd', 'e'], data))"
   ]
  }
 ]
}