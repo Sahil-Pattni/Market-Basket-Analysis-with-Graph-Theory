{
 "cells": [
  {
   "cell_type": "code",
   "execution_count": 33,
   "metadata": {},
   "outputs": [],
   "source": [
    "import pandas as pd\n",
    "import numpy as np\n",
    "import matplotlib.pyplot as plt\n",
    "import re\n",
    "import time\n",
    "import seaborn as sns\n",
    "import psycopg2"
   ]
  },
  {
   "cell_type": "code",
   "execution_count": 51,
   "metadata": {},
   "outputs": [],
   "source": [
    "try:\n",
    "    connection = psycopg2.connect(user='sid', password='sloth',host='127.0.0.1', port=5432, database='sales')\n",
    "    connection.set_session(autocommit=True)\n",
    "    cursor = connection.cursor()\n",
    "except (Exception, psycopg2.Error) as error:\n",
    "    print(error)"
   ]
  },
  {
   "cell_type": "code",
   "execution_count": 35,
   "metadata": {},
   "outputs": [],
   "source": [
    "df = pd.read_csv('data/fixed_data.csv')"
   ]
  },
  {
   "cell_type": "code",
   "execution_count": 39,
   "metadata": {},
   "outputs": [],
   "source": [
    "query = 'SELECT DISTINCT basket_id FROM transactions;'"
   ]
  },
  {
   "cell_type": "code",
   "execution_count": 44,
   "metadata": {},
   "outputs": [],
   "source": [
    "start = time.time()\n",
    "\n",
    "basket_ids_df = df.basket_id.unique()\n",
    "\n",
    "df_end = time.time()-start"
   ]
  },
  {
   "cell_type": "code",
   "execution_count": 45,
   "metadata": {},
   "outputs": [],
   "source": [
    "start = time.time()\n",
    "\n",
    "cursor.execute(query)\n",
    "basket_ids_pg = cursor.fetchall()\n",
    "\n",
    "pg_end = time.time()-start"
   ]
  },
  {
   "cell_type": "code",
   "execution_count": 46,
   "metadata": {},
   "outputs": [
    {
     "name": "stdout",
     "output_type": "stream",
     "text": [
      "Pandas: 4.031 seconds.\n",
      "PostgreSQL: 32.287 seconds.\n"
     ]
    }
   ],
   "source": [
    "print(f'Pandas: {round(df_end, 3)} seconds.\\nPostgreSQL: {round(pg_end, 3)} seconds.')"
   ]
  },
  {
   "cell_type": "code",
   "execution_count": 47,
   "metadata": {},
   "outputs": [],
   "source": [
    "start = time.time()\n",
    "\n",
    "basket_data_df = df[df.basket_id==basket_ids_df[0]]['product']\n",
    "\n",
    "df_end = time.time()-start"
   ]
  },
  {
   "cell_type": "code",
   "execution_count": 53,
   "metadata": {},
   "outputs": [],
   "source": [
    "start = time.time()\n",
    "\n",
    "cursor.execute(f\"SELECT product FROM transactions WHERE basket_id = '{basket_ids_pg[0][0]}';\")\n",
    "res = cursor.fetchall()\n",
    "\n",
    "pg_end = time.time()-start"
   ]
  },
  {
   "cell_type": "code",
   "execution_count": 54,
   "metadata": {},
   "outputs": [
    {
     "name": "stdout",
     "output_type": "stream",
     "text": [
      "Pandas: 1.509 seconds.\n",
      "PostgreSQL: 14.096 seconds.\n"
     ]
    }
   ],
   "source": [
    "print(f'Pandas: {round(df_end, 3)} seconds.\\nPostgreSQL: {round(pg_end, 3)} seconds.')"
   ]
  },
  {
   "cell_type": "code",
   "execution_count": null,
   "metadata": {},
   "outputs": [],
   "source": []
  }
 ],
 "metadata": {
  "kernelspec": {
   "display_name": "Python 3",
   "language": "python",
   "name": "python3"
  },
  "language_info": {
   "codemirror_mode": {
    "name": "ipython",
    "version": 3
   },
   "file_extension": ".py",
   "mimetype": "text/x-python",
   "name": "python",
   "nbconvert_exporter": "python",
   "pygments_lexer": "ipython3",
   "version": "3.8.3"
  }
 },
 "nbformat": 4,
 "nbformat_minor": 4
}
