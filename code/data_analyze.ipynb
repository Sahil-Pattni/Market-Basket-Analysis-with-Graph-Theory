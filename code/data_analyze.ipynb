{
 "cells": [
  {
   "cell_type": "markdown",
   "metadata": {},
   "source": [
    "## Import packages and data"
   ]
  },
  {
   "cell_type": "code",
   "execution_count": 1,
   "metadata": {},
   "outputs": [],
   "source": [
    "import pandas as pd\n",
    "import numpy as np\n",
    "import matplotlib.pyplot as plt\n",
    "import re\n",
    "import time"
   ]
  },
  {
   "cell_type": "code",
   "execution_count": 2,
   "metadata": {},
   "outputs": [
    {
     "name": "stdout",
     "output_type": "stream",
     "text": [
      "Read dataset in 49.0 seconds.\n"
     ]
    }
   ],
   "source": [
    "marker = time.time()\n",
    "data = pd.read_csv('data/data.csv', sep=\";\")\n",
    "print(f'Read dataset in {round(time.time()-marker, 0)} seconds.')"
   ]
  },
  {
   "cell_type": "markdown",
   "metadata": {},
   "source": [
    "## Initial Data Exploration"
   ]
  },
  {
   "cell_type": "code",
   "execution_count": null,
   "metadata": {},
   "outputs": [],
   "source": [
    "data.shape"
   ]
  },
  {
   "cell_type": "code",
   "execution_count": 3,
   "metadata": {},
   "outputs": [
    {
     "data": {
      "text/html": [
       "<div>\n",
       "<style scoped>\n",
       "    .dataframe tbody tr th:only-of-type {\n",
       "        vertical-align: middle;\n",
       "    }\n",
       "\n",
       "    .dataframe tbody tr th {\n",
       "        vertical-align: top;\n",
       "    }\n",
       "\n",
       "    .dataframe thead th {\n",
       "        text-align: right;\n",
       "    }\n",
       "</style>\n",
       "<table border=\"1\" class=\"dataframe\">\n",
       "  <thead>\n",
       "    <tr style=\"text-align: right;\">\n",
       "      <th></th>\n",
       "      <th>Company Code</th>\n",
       "      <th>Order Number</th>\n",
       "      <th>Employee</th>\n",
       "      <th>Product</th>\n",
       "      <th>Product Category</th>\n",
       "      <th>Client</th>\n",
       "      <th>Client City</th>\n",
       "      <th>Sale Date Time</th>\n",
       "      <th>Product Cost</th>\n",
       "      <th>Discount Amount</th>\n",
       "      <th>Amount</th>\n",
       "      <th>Total</th>\n",
       "      <th>Form of payment</th>\n",
       "    </tr>\n",
       "  </thead>\n",
       "  <tbody>\n",
       "    <tr>\n",
       "      <th>0</th>\n",
       "      <td>39000</td>\n",
       "      <td>12</td>\n",
       "      <td>Stacy Day</td>\n",
       "      <td>Special Gasoline</td>\n",
       "      <td>Fuel</td>\n",
       "      <td>Customer not informed</td>\n",
       "      <td>No City</td>\n",
       "      <td>2017-03-31 04:10:00</td>\n",
       "      <td>3.050</td>\n",
       "      <td>0.0</td>\n",
       "      <td>5.642</td>\n",
       "      <td>20.02</td>\n",
       "      <td>Money</td>\n",
       "    </tr>\n",
       "    <tr>\n",
       "      <th>1</th>\n",
       "      <td>39000</td>\n",
       "      <td>21</td>\n",
       "      <td>Olive Stevenson</td>\n",
       "      <td>Special Diesel</td>\n",
       "      <td>Fuel</td>\n",
       "      <td>Customer not informed</td>\n",
       "      <td>No City</td>\n",
       "      <td>2017-03-31 04:13:00</td>\n",
       "      <td>2.510</td>\n",
       "      <td>0.0</td>\n",
       "      <td>125.045</td>\n",
       "      <td>350.00</td>\n",
       "      <td>Debit Card</td>\n",
       "    </tr>\n",
       "    <tr>\n",
       "      <th>2</th>\n",
       "      <td>39000</td>\n",
       "      <td>38</td>\n",
       "      <td>Stacy Day</td>\n",
       "      <td>Special Diesel</td>\n",
       "      <td>Fuel</td>\n",
       "      <td>Customer not informed</td>\n",
       "      <td>No City</td>\n",
       "      <td>2017-03-31 04:25:00</td>\n",
       "      <td>2.510</td>\n",
       "      <td>0.0</td>\n",
       "      <td>35.699</td>\n",
       "      <td>99.92</td>\n",
       "      <td>Money</td>\n",
       "    </tr>\n",
       "    <tr>\n",
       "      <th>3</th>\n",
       "      <td>39000</td>\n",
       "      <td>39</td>\n",
       "      <td>Olive Stevenson</td>\n",
       "      <td>Lubricant 1108</td>\n",
       "      <td>Lubricant</td>\n",
       "      <td>Customer not informed</td>\n",
       "      <td>No City</td>\n",
       "      <td>2017-03-31 04:26:00</td>\n",
       "      <td>7.409</td>\n",
       "      <td>0.0</td>\n",
       "      <td>1.000</td>\n",
       "      <td>13.00</td>\n",
       "      <td>Money</td>\n",
       "    </tr>\n",
       "    <tr>\n",
       "      <th>4</th>\n",
       "      <td>39000</td>\n",
       "      <td>39</td>\n",
       "      <td>Olive Stevenson</td>\n",
       "      <td>Diesel Auto Clean</td>\n",
       "      <td>Fuel</td>\n",
       "      <td>Customer not informed</td>\n",
       "      <td>No City</td>\n",
       "      <td>2017-03-31 04:26:00</td>\n",
       "      <td>2.560</td>\n",
       "      <td>0.0</td>\n",
       "      <td>42.162</td>\n",
       "      <td>120.96</td>\n",
       "      <td>Money</td>\n",
       "    </tr>\n",
       "  </tbody>\n",
       "</table>\n",
       "</div>"
      ],
      "text/plain": [
       "   Company Code  Order Number         Employee            Product  \\\n",
       "0         39000            12        Stacy Day   Special Gasoline   \n",
       "1         39000            21  Olive Stevenson     Special Diesel   \n",
       "2         39000            38        Stacy Day     Special Diesel   \n",
       "3         39000            39  Olive Stevenson     Lubricant 1108   \n",
       "4         39000            39  Olive Stevenson  Diesel Auto Clean   \n",
       "\n",
       "  Product Category                 Client Client City       Sale Date Time  \\\n",
       "0             Fuel  Customer not informed     No City  2017-03-31 04:10:00   \n",
       "1             Fuel  Customer not informed     No City  2017-03-31 04:13:00   \n",
       "2             Fuel  Customer not informed     No City  2017-03-31 04:25:00   \n",
       "3        Lubricant  Customer not informed     No City  2017-03-31 04:26:00   \n",
       "4             Fuel  Customer not informed     No City  2017-03-31 04:26:00   \n",
       "\n",
       "   Product Cost  Discount Amount   Amount   Total Form of payment  \n",
       "0         3.050              0.0    5.642   20.02           Money  \n",
       "1         2.510              0.0  125.045  350.00      Debit Card  \n",
       "2         2.510              0.0   35.699   99.92           Money  \n",
       "3         7.409              0.0    1.000   13.00           Money  \n",
       "4         2.560              0.0   42.162  120.96           Money  "
      ]
     },
     "execution_count": 3,
     "metadata": {},
     "output_type": "execute_result"
    }
   ],
   "source": [
    "data.head()"
   ]
  },
  {
   "cell_type": "code",
   "execution_count": 4,
   "metadata": {},
   "outputs": [
    {
     "name": "stdout",
     "output_type": "stream",
     "text": [
      "company_code     : 50 unique vales.\n",
      "order_number     : 2,200,978 unique vales.\n",
      "employee         : 976 unique vales.\n",
      "product          : 7,584 unique vales.\n",
      "product_category : 39 unique vales.\n",
      "client           : 10,817 unique vales.\n",
      "client_city      : 552 unique vales.\n",
      "sale_date_time   : 1,251,244 unique vales.\n",
      "product_cost     : 23,252 unique vales.\n",
      "discount_amount  : 2,400 unique vales.\n",
      "amount           : 200,811 unique vales.\n",
      "total            : 99,676 unique vales.\n",
      "form_of_payment  : 7 unique vales.\n"
     ]
    }
   ],
   "source": [
    "# Make column names more Pythonic (snake-case)\n",
    "data.rename(columns = lambda x: x.lower().replace(' ','_'), inplace=True)\n",
    "\n",
    "for col in data.columns:\n",
    "    print(f'{col.ljust(17)}: {data[col].nunique():,} unique vales.')"
   ]
  },
  {
   "cell_type": "code",
   "execution_count": 5,
   "metadata": {},
   "outputs": [],
   "source": [
    "data.rename(columns={'client_city': 'city'}, inplace=True)"
   ]
  },
  {
   "cell_type": "code",
   "execution_count": 6,
   "metadata": {},
   "outputs": [
    {
     "data": {
      "text/html": [
       "<div>\n",
       "<style scoped>\n",
       "    .dataframe tbody tr th:only-of-type {\n",
       "        vertical-align: middle;\n",
       "    }\n",
       "\n",
       "    .dataframe tbody tr th {\n",
       "        vertical-align: top;\n",
       "    }\n",
       "\n",
       "    .dataframe thead th {\n",
       "        text-align: right;\n",
       "    }\n",
       "</style>\n",
       "<table border=\"1\" class=\"dataframe\">\n",
       "  <thead>\n",
       "    <tr style=\"text-align: right;\">\n",
       "      <th></th>\n",
       "      <th>company_code</th>\n",
       "      <th>order_number</th>\n",
       "      <th>employee</th>\n",
       "      <th>product</th>\n",
       "      <th>product_category</th>\n",
       "      <th>client</th>\n",
       "      <th>city</th>\n",
       "      <th>sale_date_time</th>\n",
       "      <th>product_cost</th>\n",
       "      <th>discount_amount</th>\n",
       "      <th>amount</th>\n",
       "      <th>total</th>\n",
       "      <th>form_of_payment</th>\n",
       "    </tr>\n",
       "  </thead>\n",
       "  <tbody>\n",
       "    <tr>\n",
       "      <th>0</th>\n",
       "      <td>39000</td>\n",
       "      <td>12</td>\n",
       "      <td>Stacy Day</td>\n",
       "      <td>Special Gasoline</td>\n",
       "      <td>Fuel</td>\n",
       "      <td>Customer not informed</td>\n",
       "      <td>No City</td>\n",
       "      <td>2017-03-31 04:10:00</td>\n",
       "      <td>3.050</td>\n",
       "      <td>0.0</td>\n",
       "      <td>5.642</td>\n",
       "      <td>20.02</td>\n",
       "      <td>Money</td>\n",
       "    </tr>\n",
       "    <tr>\n",
       "      <th>1</th>\n",
       "      <td>39000</td>\n",
       "      <td>21</td>\n",
       "      <td>Olive Stevenson</td>\n",
       "      <td>Special Diesel</td>\n",
       "      <td>Fuel</td>\n",
       "      <td>Customer not informed</td>\n",
       "      <td>No City</td>\n",
       "      <td>2017-03-31 04:13:00</td>\n",
       "      <td>2.510</td>\n",
       "      <td>0.0</td>\n",
       "      <td>125.045</td>\n",
       "      <td>350.00</td>\n",
       "      <td>Debit Card</td>\n",
       "    </tr>\n",
       "    <tr>\n",
       "      <th>2</th>\n",
       "      <td>39000</td>\n",
       "      <td>38</td>\n",
       "      <td>Stacy Day</td>\n",
       "      <td>Special Diesel</td>\n",
       "      <td>Fuel</td>\n",
       "      <td>Customer not informed</td>\n",
       "      <td>No City</td>\n",
       "      <td>2017-03-31 04:25:00</td>\n",
       "      <td>2.510</td>\n",
       "      <td>0.0</td>\n",
       "      <td>35.699</td>\n",
       "      <td>99.92</td>\n",
       "      <td>Money</td>\n",
       "    </tr>\n",
       "    <tr>\n",
       "      <th>3</th>\n",
       "      <td>39000</td>\n",
       "      <td>39</td>\n",
       "      <td>Olive Stevenson</td>\n",
       "      <td>Lubricant 1108</td>\n",
       "      <td>Lubricant</td>\n",
       "      <td>Customer not informed</td>\n",
       "      <td>No City</td>\n",
       "      <td>2017-03-31 04:26:00</td>\n",
       "      <td>7.409</td>\n",
       "      <td>0.0</td>\n",
       "      <td>1.000</td>\n",
       "      <td>13.00</td>\n",
       "      <td>Money</td>\n",
       "    </tr>\n",
       "    <tr>\n",
       "      <th>4</th>\n",
       "      <td>39000</td>\n",
       "      <td>39</td>\n",
       "      <td>Olive Stevenson</td>\n",
       "      <td>Diesel Auto Clean</td>\n",
       "      <td>Fuel</td>\n",
       "      <td>Customer not informed</td>\n",
       "      <td>No City</td>\n",
       "      <td>2017-03-31 04:26:00</td>\n",
       "      <td>2.560</td>\n",
       "      <td>0.0</td>\n",
       "      <td>42.162</td>\n",
       "      <td>120.96</td>\n",
       "      <td>Money</td>\n",
       "    </tr>\n",
       "  </tbody>\n",
       "</table>\n",
       "</div>"
      ],
      "text/plain": [
       "   company_code  order_number         employee            product  \\\n",
       "0         39000            12        Stacy Day   Special Gasoline   \n",
       "1         39000            21  Olive Stevenson     Special Diesel   \n",
       "2         39000            38        Stacy Day     Special Diesel   \n",
       "3         39000            39  Olive Stevenson     Lubricant 1108   \n",
       "4         39000            39  Olive Stevenson  Diesel Auto Clean   \n",
       "\n",
       "  product_category                 client     city       sale_date_time  \\\n",
       "0             Fuel  Customer not informed  No City  2017-03-31 04:10:00   \n",
       "1             Fuel  Customer not informed  No City  2017-03-31 04:13:00   \n",
       "2             Fuel  Customer not informed  No City  2017-03-31 04:25:00   \n",
       "3        Lubricant  Customer not informed  No City  2017-03-31 04:26:00   \n",
       "4             Fuel  Customer not informed  No City  2017-03-31 04:26:00   \n",
       "\n",
       "   product_cost  discount_amount   amount   total form_of_payment  \n",
       "0         3.050              0.0    5.642   20.02           Money  \n",
       "1         2.510              0.0  125.045  350.00      Debit Card  \n",
       "2         2.510              0.0   35.699   99.92           Money  \n",
       "3         7.409              0.0    1.000   13.00           Money  \n",
       "4         2.560              0.0   42.162  120.96           Money  "
      ]
     },
     "execution_count": 6,
     "metadata": {},
     "output_type": "execute_result"
    }
   ],
   "source": [
    "data.head()"
   ]
  },
  {
   "cell_type": "markdown",
   "metadata": {},
   "source": [
    "#### Data Fix: Aggregate Product Names\n",
    "If we look at the data, we can see that we do not, in fact, have 7,584 unique products being sold.\n",
    "\n",
    "Some products are listed multiple times, such as:\n",
    "- Lubricant 1495\n",
    "- Lubricant 4105\n",
    "- Lubricant 250\n",
    "\n",
    "This lambda function removes any trailing spaces and numbers."
   ]
  },
  {
   "cell_type": "code",
   "execution_count": 7,
   "metadata": {},
   "outputs": [],
   "source": [
    "data['product'] = data['product'].apply(lambda x: re.sub(' [0-9]+', '', x))"
   ]
  },
  {
   "cell_type": "markdown",
   "metadata": {},
   "source": [
    "We can see that after aggregating the product name, we now only have 45 unique products being sold."
   ]
  },
  {
   "cell_type": "code",
   "execution_count": 8,
   "metadata": {},
   "outputs": [
    {
     "name": "stdout",
     "output_type": "stream",
     "text": [
      "product: 45 unique values.\n"
     ]
    }
   ],
   "source": [
    "print(f'product: {data[\"product\"].nunique()} unique values.')"
   ]
  },
  {
   "cell_type": "markdown",
   "metadata": {},
   "source": [
    "##### Add a date column for easier reference"
   ]
  },
  {
   "cell_type": "code",
   "execution_count": 9,
   "metadata": {},
   "outputs": [],
   "source": [
    "# To convert string datetime to integer value of YYYYMMDD\n",
    "def convert_date(d):\n",
    "    x = d.split(' ')[0].split('-')\n",
    "    return int(f'{x[0]}{x[1]}{x[2]}')\n",
    "\n",
    "data['date'] = data.sale_date_time.apply(convert_date)"
   ]
  },
  {
   "cell_type": "code",
   "execution_count": 15,
   "metadata": {},
   "outputs": [],
   "source": [
    "# first arg kept empty because it's 'x'\n",
    "def basket_id(x):\n",
    "    order, city, date = x['order_number'], x['city'], x['date']\n",
    "    return f'{order}{city.replace(\" \",\"\").lower()}{date}'"
   ]
  },
  {
   "cell_type": "code",
   "execution_count": 16,
   "metadata": {},
   "outputs": [
    {
     "name": "stdout",
     "output_type": "stream",
     "text": [
      "Finished in (1066, 0) seconds.\n"
     ]
    }
   ],
   "source": [
    "s = time.time()\n",
    "data['basket_id'] = data.apply(lambda x: basket_id(x), axis=1)\n",
    "print(f'Finished in {round(time.time()-s, 0)} seconds.')"
   ]
  },
  {
   "cell_type": "code",
   "execution_count": 19,
   "metadata": {},
   "outputs": [
    {
     "data": {
      "text/html": [
       "<div>\n",
       "<style scoped>\n",
       "    .dataframe tbody tr th:only-of-type {\n",
       "        vertical-align: middle;\n",
       "    }\n",
       "\n",
       "    .dataframe tbody tr th {\n",
       "        vertical-align: top;\n",
       "    }\n",
       "\n",
       "    .dataframe thead th {\n",
       "        text-align: right;\n",
       "    }\n",
       "</style>\n",
       "<table border=\"1\" class=\"dataframe\">\n",
       "  <thead>\n",
       "    <tr style=\"text-align: right;\">\n",
       "      <th></th>\n",
       "      <th>company_code</th>\n",
       "      <th>order_number</th>\n",
       "      <th>employee</th>\n",
       "      <th>product</th>\n",
       "      <th>product_category</th>\n",
       "      <th>client</th>\n",
       "      <th>city</th>\n",
       "      <th>sale_date_time</th>\n",
       "      <th>product_cost</th>\n",
       "      <th>discount_amount</th>\n",
       "      <th>amount</th>\n",
       "      <th>total</th>\n",
       "      <th>form_of_payment</th>\n",
       "      <th>date</th>\n",
       "      <th>basket_id</th>\n",
       "    </tr>\n",
       "  </thead>\n",
       "  <tbody>\n",
       "    <tr>\n",
       "      <th>0</th>\n",
       "      <td>39000</td>\n",
       "      <td>12</td>\n",
       "      <td>Stacy Day</td>\n",
       "      <td>Special Gasoline</td>\n",
       "      <td>Fuel</td>\n",
       "      <td>Customer not informed</td>\n",
       "      <td>No City</td>\n",
       "      <td>2017-03-31 04:10:00</td>\n",
       "      <td>3.050</td>\n",
       "      <td>0.0</td>\n",
       "      <td>5.642</td>\n",
       "      <td>20.02</td>\n",
       "      <td>Money</td>\n",
       "      <td>20170331</td>\n",
       "      <td>12no city20170331</td>\n",
       "    </tr>\n",
       "    <tr>\n",
       "      <th>1</th>\n",
       "      <td>39000</td>\n",
       "      <td>21</td>\n",
       "      <td>Olive Stevenson</td>\n",
       "      <td>Special Diesel</td>\n",
       "      <td>Fuel</td>\n",
       "      <td>Customer not informed</td>\n",
       "      <td>No City</td>\n",
       "      <td>2017-03-31 04:13:00</td>\n",
       "      <td>2.510</td>\n",
       "      <td>0.0</td>\n",
       "      <td>125.045</td>\n",
       "      <td>350.00</td>\n",
       "      <td>Debit Card</td>\n",
       "      <td>20170331</td>\n",
       "      <td>21no city20170331</td>\n",
       "    </tr>\n",
       "    <tr>\n",
       "      <th>2</th>\n",
       "      <td>39000</td>\n",
       "      <td>38</td>\n",
       "      <td>Stacy Day</td>\n",
       "      <td>Special Diesel</td>\n",
       "      <td>Fuel</td>\n",
       "      <td>Customer not informed</td>\n",
       "      <td>No City</td>\n",
       "      <td>2017-03-31 04:25:00</td>\n",
       "      <td>2.510</td>\n",
       "      <td>0.0</td>\n",
       "      <td>35.699</td>\n",
       "      <td>99.92</td>\n",
       "      <td>Money</td>\n",
       "      <td>20170331</td>\n",
       "      <td>38no city20170331</td>\n",
       "    </tr>\n",
       "    <tr>\n",
       "      <th>3</th>\n",
       "      <td>39000</td>\n",
       "      <td>39</td>\n",
       "      <td>Olive Stevenson</td>\n",
       "      <td>Lubricant</td>\n",
       "      <td>Lubricant</td>\n",
       "      <td>Customer not informed</td>\n",
       "      <td>No City</td>\n",
       "      <td>2017-03-31 04:26:00</td>\n",
       "      <td>7.409</td>\n",
       "      <td>0.0</td>\n",
       "      <td>1.000</td>\n",
       "      <td>13.00</td>\n",
       "      <td>Money</td>\n",
       "      <td>20170331</td>\n",
       "      <td>39no city20170331</td>\n",
       "    </tr>\n",
       "    <tr>\n",
       "      <th>4</th>\n",
       "      <td>39000</td>\n",
       "      <td>39</td>\n",
       "      <td>Olive Stevenson</td>\n",
       "      <td>Diesel Auto Clean</td>\n",
       "      <td>Fuel</td>\n",
       "      <td>Customer not informed</td>\n",
       "      <td>No City</td>\n",
       "      <td>2017-03-31 04:26:00</td>\n",
       "      <td>2.560</td>\n",
       "      <td>0.0</td>\n",
       "      <td>42.162</td>\n",
       "      <td>120.96</td>\n",
       "      <td>Money</td>\n",
       "      <td>20170331</td>\n",
       "      <td>39no city20170331</td>\n",
       "    </tr>\n",
       "  </tbody>\n",
       "</table>\n",
       "</div>"
      ],
      "text/plain": [
       "   company_code  order_number         employee            product  \\\n",
       "0         39000            12        Stacy Day   Special Gasoline   \n",
       "1         39000            21  Olive Stevenson     Special Diesel   \n",
       "2         39000            38        Stacy Day     Special Diesel   \n",
       "3         39000            39  Olive Stevenson          Lubricant   \n",
       "4         39000            39  Olive Stevenson  Diesel Auto Clean   \n",
       "\n",
       "  product_category                 client     city       sale_date_time  \\\n",
       "0             Fuel  Customer not informed  No City  2017-03-31 04:10:00   \n",
       "1             Fuel  Customer not informed  No City  2017-03-31 04:13:00   \n",
       "2             Fuel  Customer not informed  No City  2017-03-31 04:25:00   \n",
       "3        Lubricant  Customer not informed  No City  2017-03-31 04:26:00   \n",
       "4             Fuel  Customer not informed  No City  2017-03-31 04:26:00   \n",
       "\n",
       "   product_cost  discount_amount   amount   total form_of_payment      date  \\\n",
       "0         3.050              0.0    5.642   20.02           Money  20170331   \n",
       "1         2.510              0.0  125.045  350.00      Debit Card  20170331   \n",
       "2         2.510              0.0   35.699   99.92           Money  20170331   \n",
       "3         7.409              0.0    1.000   13.00           Money  20170331   \n",
       "4         2.560              0.0   42.162  120.96           Money  20170331   \n",
       "\n",
       "           basket_id  \n",
       "0  12no city20170331  \n",
       "1  21no city20170331  \n",
       "2  38no city20170331  \n",
       "3  39no city20170331  \n",
       "4  39no city20170331  "
      ]
     },
     "execution_count": 19,
     "metadata": {},
     "output_type": "execute_result"
    }
   ],
   "source": [
    "data.head()"
   ]
  },
  {
   "cell_type": "code",
   "execution_count": 20,
   "metadata": {},
   "outputs": [],
   "source": [
    "data.to_csv(\"fixed_data.csv\", index=False)"
   ]
  },
  {
   "cell_type": "markdown",
   "metadata": {},
   "source": [
    "## Creating Binary Purchase/Product Vectors\n",
    "Each vector signifies a 1 or 0 if the product exists in that basket"
   ]
  },
  {
   "cell_type": "code",
   "execution_count": null,
   "metadata": {},
   "outputs": [],
   "source": [
    "distance_function = lambda x: sqrt(2*(1-x))"
   ]
  }
 ],
 "metadata": {
  "kernelspec": {
   "display_name": "Python 3",
   "language": "python",
   "name": "python3"
  },
  "language_info": {
   "codemirror_mode": {
    "name": "ipython",
    "version": 3
   },
   "file_extension": ".py",
   "mimetype": "text/x-python",
   "name": "python",
   "nbconvert_exporter": "python",
   "pygments_lexer": "ipython3",
   "version": "3.8.3"
  }
 },
 "nbformat": 4,
 "nbformat_minor": 4
}
