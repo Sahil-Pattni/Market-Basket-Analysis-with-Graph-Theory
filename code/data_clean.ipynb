{
 "metadata": {
  "language_info": {
   "codemirror_mode": {
    "name": "ipython",
    "version": 3
   },
   "file_extension": ".py",
   "mimetype": "text/x-python",
   "name": "python",
   "nbconvert_exporter": "python",
   "pygments_lexer": "ipython3",
   "version": "3.8.3"
  },
  "orig_nbformat": 2,
  "kernelspec": {
   "name": "python383jvsc74a57bd00556dc4ebd5cb7fbb68c9222fa1010c1dce76b4ac3868e77ac8a92afc16e4250",
   "display_name": "Python 3.8.3 64-bit ('base': conda)"
  }
 },
 "nbformat": 4,
 "nbformat_minor": 2,
 "cells": [
  {
   "cell_type": "code",
   "execution_count": 1,
   "metadata": {},
   "outputs": [],
   "source": [
    "import pandas as pd \n",
    "import numpy as np \n",
    "import time\n",
    "import re "
   ]
  },
  {
   "cell_type": "code",
   "execution_count": 2,
   "metadata": {},
   "outputs": [
    {
     "output_type": "stream",
     "name": "stdout",
     "text": [
      "Finished reading in dataset in 30.90 seconds\n"
     ]
    }
   ],
   "source": [
    "# Columns to read in\n",
    "fields = ['Order Number', 'Product', 'Product Category','Client City','Sale Date Time','Discount Amount']\n",
    "start = time.time()\n",
    "data = pd.read_csv('data/original_data.csv',sep=';', usecols=fields) # NOTE: Remove nrows for final\n",
    "print(f'Finished reading in dataset in {time.time()-start:.2f} seconds')"
   ]
  },
  {
   "cell_type": "code",
   "execution_count": 3,
   "metadata": {},
   "outputs": [],
   "source": [
    "# Rename columns\n",
    "data.rename(columns=lambda x: x.replace(' ', '_').lower(), inplace=True)"
   ]
  },
  {
   "cell_type": "code",
   "execution_count": 4,
   "metadata": {},
   "outputs": [],
   "source": [
    "# lambda to clear numeric values and remove whitespace\n",
    "clean = lambda x: re.sub('[0-9]+', '', x).strip().lower()\n",
    "\n",
    "# lowercase product and remove numbers\n",
    "data['product'] = data['product'].apply(clean)\n",
    "# lowecase category and remove numbers\n",
    "data['product_category'] = data['product_category'].apply(clean)\n",
    "\n",
    "# Clean up city name\n",
    "data['client_city'] = data['client_city'].apply(lambda x: x.lower().strip().replace(' ','_'))\n",
    "\n",
    "# Date formatter lambda\n",
    "date_format = lambda x: x.split(' ')[0].replace('-','')\n",
    "# Add unique basket ID column\n",
    "data['basket_id'] =  data.order_number.apply(str) + data.sale_date_time.apply(date_format)"
   ]
  },
  {
   "cell_type": "code",
   "execution_count": 5,
   "metadata": {},
   "outputs": [
    {
     "output_type": "execute_result",
     "data": {
      "text/plain": [
       "   order_number            product product_category client_city  \\\n",
       "0            12   special gasoline             fuel     no_city   \n",
       "1            21     special diesel             fuel     no_city   \n",
       "2            38     special diesel             fuel     no_city   \n",
       "3            39          lubricant        lubricant     no_city   \n",
       "4            39  diesel auto clean             fuel     no_city   \n",
       "\n",
       "        sale_date_time  discount_amount   basket_id  \n",
       "0  2017-03-31 04:10:00              0.0  1220170331  \n",
       "1  2017-03-31 04:13:00              0.0  2120170331  \n",
       "2  2017-03-31 04:25:00              0.0  3820170331  \n",
       "3  2017-03-31 04:26:00              0.0  3920170331  \n",
       "4  2017-03-31 04:26:00              0.0  3920170331  "
      ],
      "text/html": "<div>\n<style scoped>\n    .dataframe tbody tr th:only-of-type {\n        vertical-align: middle;\n    }\n\n    .dataframe tbody tr th {\n        vertical-align: top;\n    }\n\n    .dataframe thead th {\n        text-align: right;\n    }\n</style>\n<table border=\"1\" class=\"dataframe\">\n  <thead>\n    <tr style=\"text-align: right;\">\n      <th></th>\n      <th>order_number</th>\n      <th>product</th>\n      <th>product_category</th>\n      <th>client_city</th>\n      <th>sale_date_time</th>\n      <th>discount_amount</th>\n      <th>basket_id</th>\n    </tr>\n  </thead>\n  <tbody>\n    <tr>\n      <th>0</th>\n      <td>12</td>\n      <td>special gasoline</td>\n      <td>fuel</td>\n      <td>no_city</td>\n      <td>2017-03-31 04:10:00</td>\n      <td>0.0</td>\n      <td>1220170331</td>\n    </tr>\n    <tr>\n      <th>1</th>\n      <td>21</td>\n      <td>special diesel</td>\n      <td>fuel</td>\n      <td>no_city</td>\n      <td>2017-03-31 04:13:00</td>\n      <td>0.0</td>\n      <td>2120170331</td>\n    </tr>\n    <tr>\n      <th>2</th>\n      <td>38</td>\n      <td>special diesel</td>\n      <td>fuel</td>\n      <td>no_city</td>\n      <td>2017-03-31 04:25:00</td>\n      <td>0.0</td>\n      <td>3820170331</td>\n    </tr>\n    <tr>\n      <th>3</th>\n      <td>39</td>\n      <td>lubricant</td>\n      <td>lubricant</td>\n      <td>no_city</td>\n      <td>2017-03-31 04:26:00</td>\n      <td>0.0</td>\n      <td>3920170331</td>\n    </tr>\n    <tr>\n      <th>4</th>\n      <td>39</td>\n      <td>diesel auto clean</td>\n      <td>fuel</td>\n      <td>no_city</td>\n      <td>2017-03-31 04:26:00</td>\n      <td>0.0</td>\n      <td>3920170331</td>\n    </tr>\n  </tbody>\n</table>\n</div>"
     },
     "metadata": {},
     "execution_count": 5
    }
   ],
   "source": [
    "data.head()"
   ]
  },
  {
   "cell_type": "code",
   "execution_count": 6,
   "metadata": {},
   "outputs": [
    {
     "output_type": "execute_result",
     "data": {
      "text/plain": [
       "39"
      ]
     },
     "metadata": {},
     "execution_count": 6
    }
   ],
   "source": [
    "products = data.product_category.unique()\n",
    "len(products)"
   ]
  },
  {
   "cell_type": "code",
   "execution_count": 7,
   "metadata": {},
   "outputs": [],
   "source": [
    "import csv\n",
    "with open('data/output/unique_products.csv', 'w+') as f:\n",
    "    writer = csv.writer(f)\n",
    "    writer.writerow(['PRODUCT']) # Adding header row since Rust ignores first row\n",
    "    writer.writerows([[p] for p in products])"
   ]
  },
  {
   "cell_type": "code",
   "execution_count": 8,
   "metadata": {},
   "outputs": [],
   "source": [
    "columns_to_export = ['product', 'product_category', 'client_city', 'discount_amount', 'basket_id']"
   ]
  },
  {
   "cell_type": "code",
   "execution_count": 9,
   "metadata": {},
   "outputs": [],
   "source": [
    "data.to_csv('data/output/original_cleaned.csv', index=False, columns=columns_to_export)"
   ]
  },
  {
   "source": [
    "### Export dataset without fuel"
   ],
   "cell_type": "markdown",
   "metadata": {}
  },
  {
   "cell_type": "code",
   "execution_count": 10,
   "metadata": {},
   "outputs": [],
   "source": [
    "no_fuel = data[data.product_category != 'fuel']\n",
    "no_fuel.to_csv('data/output/original_cleaned_no_fuel.csv', index=False, columns=columns_to_export)"
   ]
  }
 ]
}