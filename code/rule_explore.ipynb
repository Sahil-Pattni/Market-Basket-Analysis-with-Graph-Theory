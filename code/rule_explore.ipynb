{
 "metadata": {
  "language_info": {
   "codemirror_mode": {
    "name": "ipython",
    "version": 3
   },
   "file_extension": ".py",
   "mimetype": "text/x-python",
   "name": "python",
   "nbconvert_exporter": "python",
   "pygments_lexer": "ipython3",
   "version": "3.8.3-final"
  },
  "orig_nbformat": 2,
  "kernelspec": {
   "name": "python3",
   "display_name": "Python 3",
   "language": "python"
  }
 },
 "nbformat": 4,
 "nbformat_minor": 2,
 "cells": [
  {
   "cell_type": "code",
   "execution_count": 6,
   "metadata": {},
   "outputs": [],
   "source": [
    "import pandas as pd\n",
    "from arm import MSTARM"
   ]
  },
  {
   "cell_type": "code",
   "execution_count": 7,
   "metadata": {},
   "outputs": [
    {
     "output_type": "execute_result",
     "data": {
      "text/plain": [
       "                           a                                          b  \\\n",
       "0  ('Ethanol', 'Cigarettes')                     ('Diesel Auto Clean',)   \n",
       "1  ('Ethanol', 'Cigarettes')             ('Special Gasoline', 'Diesel')   \n",
       "2  ('Ethanol', 'Cigarettes')                                ('Diesel',)   \n",
       "3  ('Ethanol', 'Cigarettes')  ('Special Gasoline', 'Diesel Auto Clean')   \n",
       "4  ('Ethanol', 'Cigarettes')                      ('Special Gasoline',)   \n",
       "\n",
       "    support  confidence      lift  \n",
       "0  0.010214    0.461185  2.563858  \n",
       "1  0.006097    0.275286  4.098598  \n",
       "2  0.006118    0.276232  3.214333  \n",
       "3  0.010176    0.459476  3.834119  \n",
       "4  0.021821    0.985283  1.356976  "
      ],
      "text/html": "<div>\n<style scoped>\n    .dataframe tbody tr th:only-of-type {\n        vertical-align: middle;\n    }\n\n    .dataframe tbody tr th {\n        vertical-align: top;\n    }\n\n    .dataframe thead th {\n        text-align: right;\n    }\n</style>\n<table border=\"1\" class=\"dataframe\">\n  <thead>\n    <tr style=\"text-align: right;\">\n      <th></th>\n      <th>a</th>\n      <th>b</th>\n      <th>support</th>\n      <th>confidence</th>\n      <th>lift</th>\n    </tr>\n  </thead>\n  <tbody>\n    <tr>\n      <th>0</th>\n      <td>('Ethanol', 'Cigarettes')</td>\n      <td>('Diesel Auto Clean',)</td>\n      <td>0.010214</td>\n      <td>0.461185</td>\n      <td>2.563858</td>\n    </tr>\n    <tr>\n      <th>1</th>\n      <td>('Ethanol', 'Cigarettes')</td>\n      <td>('Special Gasoline', 'Diesel')</td>\n      <td>0.006097</td>\n      <td>0.275286</td>\n      <td>4.098598</td>\n    </tr>\n    <tr>\n      <th>2</th>\n      <td>('Ethanol', 'Cigarettes')</td>\n      <td>('Diesel',)</td>\n      <td>0.006118</td>\n      <td>0.276232</td>\n      <td>3.214333</td>\n    </tr>\n    <tr>\n      <th>3</th>\n      <td>('Ethanol', 'Cigarettes')</td>\n      <td>('Special Gasoline', 'Diesel Auto Clean')</td>\n      <td>0.010176</td>\n      <td>0.459476</td>\n      <td>3.834119</td>\n    </tr>\n    <tr>\n      <th>4</th>\n      <td>('Ethanol', 'Cigarettes')</td>\n      <td>('Special Gasoline',)</td>\n      <td>0.021821</td>\n      <td>0.985283</td>\n      <td>1.356976</td>\n    </tr>\n  </tbody>\n</table>\n</div>"
     },
     "metadata": {},
     "execution_count": 7
    }
   ],
   "source": [
    "df = pd.read_csv('data/output/class_rules.csv')\n",
    "df.head()"
   ]
  },
  {
   "cell_type": "code",
   "execution_count": 12,
   "metadata": {},
   "outputs": [
    {
     "output_type": "execute_result",
     "data": {
      "text/plain": [
       "(100, 5)"
      ]
     },
     "metadata": {},
     "execution_count": 12
    }
   ],
   "source": [
    "df.shape"
   ]
  },
  {
   "source": [
    "### By highest `support` score"
   ],
   "cell_type": "markdown",
   "metadata": {}
  },
  {
   "cell_type": "code",
   "execution_count": 9,
   "metadata": {},
   "outputs": [
    {
     "output_type": "execute_result",
     "data": {
      "text/plain": [
       "                         a                      b   support  confidence  \\\n",
       "31  ('Diesel Auto Clean',)  ('Special Gasoline',)  0.119839    0.666217   \n",
       "81            ('Ethanol',)  ('Special Gasoline',)  0.109000    0.881073   \n",
       "94     ('Special Diesel',)          ('Gasoline',)  0.080917    0.625656   \n",
       "91          ('Lubricant',)          ('Gasoline',)  0.071294    0.771021   \n",
       "67         ('Cigarettes',)  ('Special Gasoline',)  0.067925    0.954123   \n",
       "\n",
       "        lift  \n",
       "31  0.917544  \n",
       "81  1.213453  \n",
       "94  1.150017  \n",
       "91  1.417212  \n",
       "67  1.314061  "
      ],
      "text/html": "<div>\n<style scoped>\n    .dataframe tbody tr th:only-of-type {\n        vertical-align: middle;\n    }\n\n    .dataframe tbody tr th {\n        vertical-align: top;\n    }\n\n    .dataframe thead th {\n        text-align: right;\n    }\n</style>\n<table border=\"1\" class=\"dataframe\">\n  <thead>\n    <tr style=\"text-align: right;\">\n      <th></th>\n      <th>a</th>\n      <th>b</th>\n      <th>support</th>\n      <th>confidence</th>\n      <th>lift</th>\n    </tr>\n  </thead>\n  <tbody>\n    <tr>\n      <th>31</th>\n      <td>('Diesel Auto Clean',)</td>\n      <td>('Special Gasoline',)</td>\n      <td>0.119839</td>\n      <td>0.666217</td>\n      <td>0.917544</td>\n    </tr>\n    <tr>\n      <th>81</th>\n      <td>('Ethanol',)</td>\n      <td>('Special Gasoline',)</td>\n      <td>0.109000</td>\n      <td>0.881073</td>\n      <td>1.213453</td>\n    </tr>\n    <tr>\n      <th>94</th>\n      <td>('Special Diesel',)</td>\n      <td>('Gasoline',)</td>\n      <td>0.080917</td>\n      <td>0.625656</td>\n      <td>1.150017</td>\n    </tr>\n    <tr>\n      <th>91</th>\n      <td>('Lubricant',)</td>\n      <td>('Gasoline',)</td>\n      <td>0.071294</td>\n      <td>0.771021</td>\n      <td>1.417212</td>\n    </tr>\n    <tr>\n      <th>67</th>\n      <td>('Cigarettes',)</td>\n      <td>('Special Gasoline',)</td>\n      <td>0.067925</td>\n      <td>0.954123</td>\n      <td>1.314061</td>\n    </tr>\n  </tbody>\n</table>\n</div>"
     },
     "metadata": {},
     "execution_count": 9
    }
   ],
   "source": [
    "df.sort_values(by=['support'], ascending=False).head()"
   ]
  },
  {
   "source": [
    "### By highest `confidence` score"
   ],
   "cell_type": "markdown",
   "metadata": {}
  },
  {
   "cell_type": "code",
   "execution_count": 11,
   "metadata": {},
   "outputs": [
    {
     "output_type": "execute_result",
     "data": {
      "text/plain": [
       "                                                 a                      b  \\\n",
       "60             ('Ethanol', 'Cigarettes', 'Diesel')  ('Special Gasoline',)   \n",
       "55  ('Diesel Auto Clean', 'Ethanol', 'Cigarettes')  ('Special Gasoline',)   \n",
       "12   ('Diesel Auto Clean', 'Cigarettes', 'Diesel')  ('Special Gasoline',)   \n",
       "14      ('Diesel Auto Clean', 'Ethanol', 'Diesel')  ('Special Gasoline',)   \n",
       "53          ('Cold Alcoholic Beverages', 'Diesel')  ('Special Gasoline',)   \n",
       "\n",
       "     support  confidence      lift  \n",
       "60  0.006097    0.996576  1.372529  \n",
       "55  0.010176    0.996293  1.372140  \n",
       "12  0.007479    0.996237  1.372062  \n",
       "14  0.009812    0.995515  1.371068  \n",
       "53  0.005169    0.987081  1.359452  "
      ],
      "text/html": "<div>\n<style scoped>\n    .dataframe tbody tr th:only-of-type {\n        vertical-align: middle;\n    }\n\n    .dataframe tbody tr th {\n        vertical-align: top;\n    }\n\n    .dataframe thead th {\n        text-align: right;\n    }\n</style>\n<table border=\"1\" class=\"dataframe\">\n  <thead>\n    <tr style=\"text-align: right;\">\n      <th></th>\n      <th>a</th>\n      <th>b</th>\n      <th>support</th>\n      <th>confidence</th>\n      <th>lift</th>\n    </tr>\n  </thead>\n  <tbody>\n    <tr>\n      <th>60</th>\n      <td>('Ethanol', 'Cigarettes', 'Diesel')</td>\n      <td>('Special Gasoline',)</td>\n      <td>0.006097</td>\n      <td>0.996576</td>\n      <td>1.372529</td>\n    </tr>\n    <tr>\n      <th>55</th>\n      <td>('Diesel Auto Clean', 'Ethanol', 'Cigarettes')</td>\n      <td>('Special Gasoline',)</td>\n      <td>0.010176</td>\n      <td>0.996293</td>\n      <td>1.372140</td>\n    </tr>\n    <tr>\n      <th>12</th>\n      <td>('Diesel Auto Clean', 'Cigarettes', 'Diesel')</td>\n      <td>('Special Gasoline',)</td>\n      <td>0.007479</td>\n      <td>0.996237</td>\n      <td>1.372062</td>\n    </tr>\n    <tr>\n      <th>14</th>\n      <td>('Diesel Auto Clean', 'Ethanol', 'Diesel')</td>\n      <td>('Special Gasoline',)</td>\n      <td>0.009812</td>\n      <td>0.995515</td>\n      <td>1.371068</td>\n    </tr>\n    <tr>\n      <th>53</th>\n      <td>('Cold Alcoholic Beverages', 'Diesel')</td>\n      <td>('Special Gasoline',)</td>\n      <td>0.005169</td>\n      <td>0.987081</td>\n      <td>1.359452</td>\n    </tr>\n  </tbody>\n</table>\n</div>"
     },
     "metadata": {},
     "execution_count": 11
    }
   ],
   "source": [
    "df.sort_values(by=['confidence'], ascending=False).head()"
   ]
  },
  {
   "source": [
    "### By highest `lift` score"
   ],
   "cell_type": "markdown",
   "metadata": {}
  },
  {
   "cell_type": "code",
   "execution_count": 13,
   "metadata": {},
   "outputs": [
    {
     "output_type": "execute_result",
     "data": {
      "text/plain": [
       "                              a                            b   support  \\\n",
       "87               ('Lubricant',)      ('Gasoline', 'Filters')  0.009510   \n",
       "93                 ('Filters',)    ('Lubricant', 'Gasoline')  0.009510   \n",
       "89               ('Lubricant',)                 ('Filters',)  0.012233   \n",
       "98                   ('Chips',)  ('Juices And Soft Drinks',)  0.007060   \n",
       "99  ('Juices And Soft Drinks',)              ('The Bakery',)  0.006370   \n",
       "\n",
       "    confidence       lift  \n",
       "87    0.102851  10.235194  \n",
       "93    0.727197  10.200036  \n",
       "89    0.132294  10.115787  \n",
       "98    0.330025   8.585170  \n",
       "99    0.165697   8.202814  "
      ],
      "text/html": "<div>\n<style scoped>\n    .dataframe tbody tr th:only-of-type {\n        vertical-align: middle;\n    }\n\n    .dataframe tbody tr th {\n        vertical-align: top;\n    }\n\n    .dataframe thead th {\n        text-align: right;\n    }\n</style>\n<table border=\"1\" class=\"dataframe\">\n  <thead>\n    <tr style=\"text-align: right;\">\n      <th></th>\n      <th>a</th>\n      <th>b</th>\n      <th>support</th>\n      <th>confidence</th>\n      <th>lift</th>\n    </tr>\n  </thead>\n  <tbody>\n    <tr>\n      <th>87</th>\n      <td>('Lubricant',)</td>\n      <td>('Gasoline', 'Filters')</td>\n      <td>0.009510</td>\n      <td>0.102851</td>\n      <td>10.235194</td>\n    </tr>\n    <tr>\n      <th>93</th>\n      <td>('Filters',)</td>\n      <td>('Lubricant', 'Gasoline')</td>\n      <td>0.009510</td>\n      <td>0.727197</td>\n      <td>10.200036</td>\n    </tr>\n    <tr>\n      <th>89</th>\n      <td>('Lubricant',)</td>\n      <td>('Filters',)</td>\n      <td>0.012233</td>\n      <td>0.132294</td>\n      <td>10.115787</td>\n    </tr>\n    <tr>\n      <th>98</th>\n      <td>('Chips',)</td>\n      <td>('Juices And Soft Drinks',)</td>\n      <td>0.007060</td>\n      <td>0.330025</td>\n      <td>8.585170</td>\n    </tr>\n    <tr>\n      <th>99</th>\n      <td>('Juices And Soft Drinks',)</td>\n      <td>('The Bakery',)</td>\n      <td>0.006370</td>\n      <td>0.165697</td>\n      <td>8.202814</td>\n    </tr>\n  </tbody>\n</table>\n</div>"
     },
     "metadata": {},
     "execution_count": 13
    }
   ],
   "source": [
    "df.sort_values(by=['lift'], ascending=False).head()"
   ]
  }
 ]
}